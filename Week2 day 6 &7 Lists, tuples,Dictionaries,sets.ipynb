{
 "cells": [
  {
   "cell_type": "code",
   "execution_count": 1,
   "id": "b24e606a",
   "metadata": {},
   "outputs": [],
   "source": [
    "# Q1 Write a progran to remove duplicates from a list using sets"
   ]
  },
  {
   "cell_type": "code",
   "execution_count": 6,
   "id": "3fd98062",
   "metadata": {},
   "outputs": [
    {
     "name": "stdout",
     "output_type": "stream",
     "text": [
      "Enter the number of elements in the list:5\n",
      "Enter the item:16\n",
      "Enter the item:16\n",
      "Enter the item:17\n",
      "Enter the item:18\n",
      "Enter the item:20\n",
      "Original list: ['16', '16', '17', '18', '20']\n",
      "List after removing duplicates: {'16', '20', '18', '17'}\n"
     ]
    }
   ],
   "source": [
    "list = []\n",
    "n = int(input(\"Enter the number of elements in the list:\"))\n",
    "for i in range(0,n):       \n",
    "    list.append(input(\"Enter the item:\"))       \n",
    "print(\"Original list:\", list)\n",
    "print(\"List after removing duplicates:\", set(list))"
   ]
  },
  {
   "cell_type": "code",
   "execution_count": null,
   "id": "827221c9",
   "metadata": {},
   "outputs": [],
   "source": [
    "#Q2 Write a program to merge 2 dictionaries"
   ]
  },
  {
   "cell_type": "code",
   "execution_count": 11,
   "id": "51b91a11",
   "metadata": {},
   "outputs": [
    {
     "name": "stdout",
     "output_type": "stream",
     "text": [
      "Merged Dictionary: {'Name': ['Rahul', 'riya', 'Vikas', 'jatin'], 'Class': ['5th', '6th', '9th', '10'], 'Address': ['india', 'USA', 'japan', 'newyork']}\n"
     ]
    }
   ],
   "source": [
    "dic1= {'Name':['Rahul','riya','Vikas','jatin'],'Class':['5th','6th','9th','10']}\n",
    "dic2= {'Address':['india','USA','japan','newyork']}\n",
    "merged_dict = {**dic1, **dic2}\n",
    "print(\"Merged Dictionary:\", merged_dict)"
   ]
  },
  {
   "cell_type": "code",
   "execution_count": null,
   "id": "4135225d",
   "metadata": {},
   "outputs": [],
   "source": [
    "# practice questions from chatgpt"
   ]
  },
  {
   "cell_type": "code",
   "execution_count": 16,
   "id": "c7509b5c",
   "metadata": {},
   "outputs": [
    {
     "name": "stdout",
     "output_type": "stream",
     "text": [
      "[4, 3, 2, 1]\n"
     ]
    }
   ],
   "source": [
    "# List Questions\n",
    "\"\"\"\n",
    "Write a program to reverse a list without using the reverse() method.\n",
    "\n",
    "Input: [1, 2, 3, 4]\n",
    "Output: [4, 3, 2, 1]\n",
    "\"\"\"\n",
    "list1 = [1, 2, 3, 4]\n",
    "reverse_list = list1[::-1]\n",
    "print(reverse_list)"
   ]
  },
  {
   "cell_type": "code",
   "execution_count": 24,
   "id": "0177cfd3",
   "metadata": {},
   "outputs": [
    {
     "name": "stdout",
     "output_type": "stream",
     "text": [
      "45\n"
     ]
    }
   ],
   "source": [
    "\"\"\"\n",
    "Write a Python program to find the second largest element in a list.\n",
    "\n",
    "Input: [10, 20, 4, 45, 99]\n",
    "Output: 45\n",
    "\"\"\"\n",
    "my_list = [10, 20, 4, 45, 99]\n",
    "\n",
    "my_list.sort(reverse=True)\n",
    "print(my_list[1])\n"
   ]
  },
  {
   "cell_type": "code",
   "execution_count": 36,
   "id": "430cd19e",
   "metadata": {},
   "outputs": [
    {
     "name": "stdout",
     "output_type": "stream",
     "text": [
      "[8, 10]\n"
     ]
    }
   ],
   "source": [
    "\"\"\"\n",
    "Given a list of numbers, write a program to find all numbers greater than a given value.\n",
    "\n",
    "Input: List = [2, 5, 8, 1, 10], Value = 5\n",
    "Output: [8, 10]\n",
    "\"\"\"\n",
    "list2 = [2, 5, 8, 1, 10]\n",
    "list3 = []\n",
    "for i in list2:\n",
    "    if i > 5: \n",
    "        list3.append(i)  \n",
    "print(list3) "
   ]
  },
  {
   "cell_type": "code",
   "execution_count": 46,
   "id": "ce1cc257",
   "metadata": {},
   "outputs": [
    {
     "name": "stdout",
     "output_type": "stream",
     "text": [
      "[1, 2, 3, 4, 5, 6]\n"
     ]
    }
   ],
   "source": [
    "\"\"\"\n",
    "Write a program to concatenate two lists and sort the final list.\n",
    "\n",
    "Input: List1 = [5, 3, 1], List2 = [6, 4, 2]\n",
    "Output: [1, 2, 3, 4, 5, 6]\n",
    "\"\"\" \n",
    "mylist1 = [5, 3, 1]\n",
    "mylist2 = [6, 4, 2]\n",
    "concat_list = mylist1+mylist2\n",
    "concat_list.sort()\n",
    "print(concat_list)"
   ]
  },
  {
   "cell_type": "code",
   "execution_count": 54,
   "id": "0409f6e1",
   "metadata": {},
   "outputs": [
    {
     "name": "stdout",
     "output_type": "stream",
     "text": [
      "({'a': 5, 'b': 10}, {'b': 20, 'c': 30})\n"
     ]
    }
   ],
   "source": [
    "# Dictionary Questions\n",
    "\"\"\"\n",
    "Write a program to merge two dictionaries and update duplicate keys with the sum of their values.\n",
    "Input: Dict1 = {'a': 5, 'b': 10}, Dict2 = {'b': 20, 'c': 30}\n",
    "Output: {'a': 5, 'b': 30, 'c': 30}\n",
    "\"\"\"\n",
    "Dict1 = {'a': 5, 'b': 10}\n",
    "Dict2 = {'b': 20, 'c': 30}\n",
    "concat_dict = (Dict1,Dict2)\n",
    "print(concat_dict)"
   ]
  },
  {
   "cell_type": "code",
   "execution_count": 60,
   "id": "b71cefe3",
   "metadata": {},
   "outputs": [
    {
     "name": "stdout",
     "output_type": "stream",
     "text": [
      "{'x': 10, 'y': 20, 'z': 0}\n"
     ]
    }
   ],
   "source": [
    "\"\"\"\n",
    "Write a program to check if a key exists in a dictionary. If it exists, print its value; otherwise, \n",
    "add the key with a default value of 0.\n",
    "\n",
    "Input: {'x': 10, 'y': 20}, Key = 'z'\n",
    "Output: {'x': 10, 'y': 20, 'z': 0}\n",
    "\"\"\"\n",
    "dict3 ={'x': 10, 'y': 20}\n",
    "dict3['z'] = 0\n",
    "print(dict3)"
   ]
  },
  {
   "cell_type": "code",
   "execution_count": 67,
   "id": "9397b55a",
   "metadata": {},
   "outputs": [
    {
     "name": "stdout",
     "output_type": "stream",
     "text": [
      "{'hello': 2, 'world': 1}\n"
     ]
    }
   ],
   "source": [
    "\"\"\"\n",
    "Write a program to count the frequency of each word in a string using a dictionary.\n",
    "\n",
    "Input: \"hello world hello\"\n",
    "Output: {'hello': 2, 'world': 1}\n",
    "\"\"\"\n",
    "input_string = \"hello world hello\" \n",
    "word_freq = {}\n",
    "\n",
    "for word in input_string.split():\n",
    "    word_freq[word] = word_freq.get(word, 0) + 1\n",
    "print(word_freq)\n"
   ]
  },
  {
   "cell_type": "code",
   "execution_count": 77,
   "id": "5b5cb8e8",
   "metadata": {},
   "outputs": [
    {
     "name": "stdout",
     "output_type": "stream",
     "text": [
      "3\n"
     ]
    }
   ],
   "source": [
    "# Tuple Questions\n",
    "\"\"\"\n",
    "Write a program to count the number of occurrences of a specific element in a tuple.\n",
    "\n",
    "Input: Tuple = (1, 2, 3, 1, 2, 1), Element = 1\n",
    "Output: 3\n",
    "\"\"\"\n",
    "tuple1 = (1, 2, 3, 1, 2, 1)\n",
    "count_1 = tuple1.count(1)\n",
    "print( count_1)"
   ]
  },
  {
   "cell_type": "code",
   "execution_count": 89,
   "id": "ae47422f",
   "metadata": {},
   "outputs": [
    {
     "name": "stdout",
     "output_type": "stream",
     "text": [
      "Hello\n"
     ]
    }
   ],
   "source": [
    "\"\"\"\n",
    "Write a program to convert a tuple into a string.\n",
    "\n",
    "Input: ('H', 'e', 'l', 'l', 'o')\n",
    "Output: \"Hello\"\n",
    "\"\"\"\n",
    "t1 = ('H', 'e', 'l', 'l', 'o')\n",
    "result = ''.join(t1)\n",
    "print(result)"
   ]
  },
  {
   "cell_type": "code",
   "execution_count": 94,
   "id": "e8433da2",
   "metadata": {},
   "outputs": [
    {
     "name": "stdout",
     "output_type": "stream",
     "text": [
      "2\n"
     ]
    }
   ],
   "source": [
    "\"\"\"\n",
    "Write a program to find the index of an element in a tuple.\n",
    "\n",
    "Input: Tuple = (10, 20, 30, 40), Element = 30\n",
    "Output: 2\n",
    "\"\"\"\n",
    "tuple2 = (10, 20, 30, 40)\n",
    "print(tuple2.index(30))\n"
   ]
  },
  {
   "cell_type": "code",
   "execution_count": 96,
   "id": "aea3c289",
   "metadata": {},
   "outputs": [
    {
     "name": "stdout",
     "output_type": "stream",
     "text": [
      "a = 1, b = Python, c = 3.14\n"
     ]
    }
   ],
   "source": [
    "\"\"\"\n",
    "Write a program to unpack a tuple into individual variables.\n",
    "\n",
    "Input: Tuple = (1, 'Python', 3.14)\n",
    "Output: a = 1, b = 'Python', c = 3.14\n",
    "\"\"\"\n",
    "t3 = (1, 'Python', 3.14)\n",
    "a, b, c = t3\n",
    "print(f\"a = {a}, b = {b}, c = {c}\")\n"
   ]
  },
  {
   "cell_type": "code",
   "execution_count": 129,
   "id": "15ced1f2",
   "metadata": {},
   "outputs": [
    {
     "name": "stdout",
     "output_type": "stream",
     "text": [
      "{1, 2, 4, 5}\n"
     ]
    }
   ],
   "source": [
    "# Set Questions\n",
    "\"\"\"\n",
    "Write a program to find the symmetric difference of two sets.\n",
    "\n",
    "Input: Set1 = {1, 2, 3}, Set2 = {3, 4, 5}\n",
    "Output: {1, 2, 4, 5}\n",
    "\"\"\"\n",
    "\n",
    "set1 = {1, 2, 3}\n",
    "set2 = {3, 4, 5}\n",
    "set3 = set1.symmetric_difference(set2)\n",
    "print(set3)"
   ]
  },
  {
   "cell_type": "code",
   "execution_count": 130,
   "id": "1981eda0",
   "metadata": {},
   "outputs": [
    {
     "name": "stdout",
     "output_type": "stream",
     "text": [
      "{1, 3, 4}\n"
     ]
    }
   ],
   "source": [
    "\"\"\"\n",
    "Write a program to add and remove elements from a set.\n",
    "\n",
    "Input: Set = {1, 2, 3}, Add = 4, Remove = 2\n",
    "Output: {1, 3, 4}\n",
    "\"\"\"\n",
    "Set5 = {1, 2, 3}\n",
    "Set5.remove(2)\n",
    "Set5.add(4)\n",
    "print(Set5)"
   ]
  },
  {
   "cell_type": "code",
   "execution_count": null,
   "id": "4612ad92",
   "metadata": {},
   "outputs": [],
   "source": []
  }
 ],
 "metadata": {
  "hide_input": false,
  "kernelspec": {
   "display_name": "Python 3 (ipykernel)",
   "language": "python",
   "name": "python3"
  },
  "language_info": {
   "codemirror_mode": {
    "name": "ipython",
    "version": 3
   },
   "file_extension": ".py",
   "mimetype": "text/x-python",
   "name": "python",
   "nbconvert_exporter": "python",
   "pygments_lexer": "ipython3",
   "version": "3.11.5"
  }
 },
 "nbformat": 4,
 "nbformat_minor": 5
}
