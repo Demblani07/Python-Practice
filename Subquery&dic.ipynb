{
 "cells": [
  {
   "cell_type": "markdown",
   "id": "0922874b",
   "metadata": {},
   "source": [
    "# Subquery"
   ]
  },
  {
   "cell_type": "code",
   "execution_count": null,
   "id": "fadaf94a",
   "metadata": {},
   "outputs": [],
   "source": [
    "import mysql.connector\n",
    "import pandas as pd"
   ]
  },
  {
   "cell_type": "code",
   "execution_count": 33,
   "id": "291eb54f",
   "metadata": {},
   "outputs": [],
   "source": [
    "connection  = mysql.connector.connect(host=\"localhost\",user=\"root\",password=\"root\",database=\"exl\")"
   ]
  },
  {
   "cell_type": "code",
   "execution_count": 34,
   "id": "c1b358fa",
   "metadata": {},
   "outputs": [
    {
     "data": {
      "text/plain": [
       "<mysql.connector.connection_cext.CMySQLConnection at 0x15b90c35cd0>"
      ]
     },
     "execution_count": 34,
     "metadata": {},
     "output_type": "execute_result"
    }
   ],
   "source": [
    "connection"
   ]
  },
  {
   "cell_type": "markdown",
   "id": "9511fb1b",
   "metadata": {},
   "source": [
    "Q1.\tFrom the following table, write a SQL query to find out which employees have the same designation as the employee whose ID is 169. Return first name, last name, department ID and job ID."
   ]
  },
  {
   "cell_type": "code",
   "execution_count": 25,
   "id": "3e2a44dd",
   "metadata": {},
   "outputs": [
    {
     "name": "stdout",
     "output_type": "stream",
     "text": [
      "     first_name   last_name  department_id  job_id\n",
      "0        Renske      Ladwig             80  SA_REP\n",
      "1       Stephen      Stiles             80  SA_REP\n",
      "2          John         Seo             80  SA_REP\n",
      "3        Joshua       Patel             80  SA_REP\n",
      "4        Trenna        Rajs             80  SA_REP\n",
      "5        Curtis      Davies             80  SA_REP\n",
      "6       Randall       Matos             80  SA_REP\n",
      "7         Peter      Vargas             80  SA_REP\n",
      "8          John     Russell             80  SA_REP\n",
      "9         Karen    Partners             80  SA_REP\n",
      "10      Alberto   Errazuriz             80  SA_REP\n",
      "11       Gerald   Cambrault             80  SA_REP\n",
      "12        Eleni     Zlotkey             80  SA_REP\n",
      "13        Peter      Tucker             80  SA_REP\n",
      "14        David   Bernstein             80  SA_REP\n",
      "15        Peter        Hall             80  SA_REP\n",
      "16  Christopher       Olsen             80  SA_REP\n",
      "17      Nanette   Cambrault             80  SA_REP\n",
      "18       Oliver     Tuvault             80  SA_REP\n",
      "19      Janette        King             80  SA_REP\n",
      "20      Patrick       Sully             80  SA_REP\n",
      "21        Allan      McEwen             80  SA_REP\n",
      "22      Lindsey       Smith             80  SA_REP\n",
      "23       Louise       Doran             80  SA_REP\n",
      "24       Sarath      Sewall             80  SA_REP\n",
      "25        Clara     Vishney             80  SA_REP\n",
      "26     Danielle      Greene             80  SA_REP\n",
      "27       Mattea     Marvins             80  SA_REP\n",
      "28        David         Lee             80  SA_REP\n",
      "29       Sundar        Ande             80  SA_REP\n",
      "30         Amit       Banda             80  SA_REP\n",
      "31         Lisa        Ozer             80  SA_REP\n",
      "32     Harrison       Bloom             80  SA_REP\n",
      "33       Tayler         Fox             80  SA_REP\n",
      "34      William       Smith             80  SA_REP\n",
      "35    Elizabeth       Bates             80  SA_REP\n",
      "36      Sundita       Kumar             80  SA_REP\n",
      "37        Ellen        Abel             80  SA_REP\n",
      "38       Alyssa      Hutton             80  SA_REP\n",
      "39     Jonathon      Taylor             80  SA_REP\n",
      "40         Jack  Livingston             80  SA_REP\n",
      "41    Kimberely       Grant             80  SA_REP\n",
      "42      Charles     Johnson             80  SA_REP\n"
     ]
    },
    {
     "name": "stderr",
     "output_type": "stream",
     "text": [
      "C:\\Users\\DELL\\AppData\\Local\\Temp\\ipykernel_11680\\3518623245.py:6: UserWarning: pandas only supports SQLAlchemy connectable (engine/connection) or database string URI or sqlite3 DBAPI2 connection. Other DBAPI2 objects are not tested. Please consider using SQLAlchemy.\n",
      "  data = pd.read_sql(query, connection)\n"
     ]
    }
   ],
   "source": [
    "query = \"\"\"SELECT first_name, last_name, department_id, job_id\n",
    "FROM  employees\n",
    "WHERE job_id = (SELECT job_id \n",
    "                FROM employees\n",
    "                WHERE employee_id = 169);\"\"\"\n",
    "data = pd.read_sql(query, connection)\n",
    "print(data)\n",
    "\n",
    "# connection.close()"
   ]
  },
  {
   "cell_type": "markdown",
   "id": "db05eb8d",
   "metadata": {},
   "source": [
    "Q2.From the following table, write a SQL query to find those employees whose salary matches the lowest salary of any of the departments.Return first name, last name and department ID."
   ]
  },
  {
   "cell_type": "code",
   "execution_count": 26,
   "id": "207d7d9c",
   "metadata": {},
   "outputs": [
    {
     "name": "stdout",
     "output_type": "stream",
     "text": [
      "   first_name   last_name  department_id\n",
      "0       Neena     Kochhar             90\n",
      "1         Lex     De Haan             90\n",
      "2       Bruce       Ernst             60\n",
      "3       Diana     Lorentz             60\n",
      "4        Luis        Popp            100\n",
      "5       Karen  Colmenares             30\n",
      "6      Shanta     Vollman             50\n",
      "7      Steven      Markle             50\n",
      "8       James      Marlow             50\n",
      "9          TJ       Olson             50\n",
      "10      Hazel  Philtanker             80\n",
      "11     Joshua       Patel             80\n",
      "12      Peter      Vargas             80\n",
      "13      Peter      Tucker             80\n",
      "14    Janette        King             80\n",
      "15      Clara     Vishney             80\n",
      "16   Danielle      Greene             80\n",
      "17   Harrison       Bloom             80\n",
      "18     Martha    Sullivan             50\n",
      "19    Nandita    Sarchand             50\n",
      "20    Randall     Perkins             50\n",
      "21   Jennifer      Whalen             10\n",
      "22        Pat         Fay             20\n",
      "23      Susan      Mavris             40\n",
      "24    Hermann        Baer             70\n",
      "25    William       Gietz            110\n"
     ]
    },
    {
     "name": "stderr",
     "output_type": "stream",
     "text": [
      "C:\\Users\\DELL\\AppData\\Local\\Temp\\ipykernel_11680\\3232394370.py:6: UserWarning: pandas only supports SQLAlchemy connectable (engine/connection) or database string URI or sqlite3 DBAPI2 connection. Other DBAPI2 objects are not tested. Please consider using SQLAlchemy.\n",
      "  data = pd.read_sql(query, connection)\n"
     ]
    }
   ],
   "source": [
    "query = \"\"\"SELECT first_name, last_name, department_id\n",
    "FROM employees\n",
    "WHERE salary IN (SELECT min(salary) \n",
    "                 FROM  employees \n",
    "                 GROUP BY department_id);\"\"\"\n",
    "data = pd.read_sql(query, connection)\n",
    "print(data)"
   ]
  },
  {
   "cell_type": "markdown",
   "id": "d6aa2e62",
   "metadata": {},
   "source": [
    "Q3. From the following tables, write a SQL query to find those employees who work in the same department as ‘Clara’. \n",
    "Exclude all those records where first name is ‘Clara’. Return first name, last name and hire date."
   ]
  },
  {
   "cell_type": "code",
   "execution_count": 27,
   "id": "c6443761",
   "metadata": {},
   "outputs": [
    {
     "name": "stdout",
     "output_type": "stream",
     "text": [
      "     first_name   last_name   hire_date\n",
      "0         Jason      Mallin  2004-06-14\n",
      "1       Michael      Rogers  2006-08-26\n",
      "2            Ki         Gee  2007-12-12\n",
      "3         Hazel  Philtanker  2008-02-06\n",
      "4        Renske      Ladwig  2003-07-14\n",
      "5       Stephen      Stiles  2005-10-26\n",
      "6          John         Seo  2006-02-12\n",
      "7        Joshua       Patel  2006-04-06\n",
      "8        Trenna        Rajs  2003-10-17\n",
      "9        Curtis      Davies  2005-01-29\n",
      "10      Randall       Matos  2006-03-15\n",
      "11        Peter      Vargas  2006-07-09\n",
      "12         John     Russell  2004-10-01\n",
      "13        Karen    Partners  2005-01-05\n",
      "14      Alberto   Errazuriz  2005-03-10\n",
      "15       Gerald   Cambrault  2007-10-15\n",
      "16        Eleni     Zlotkey  2008-01-29\n",
      "17        Peter      Tucker  2003-01-30\n",
      "18        David   Bernstein  2005-03-24\n",
      "19        Peter        Hall  2005-08-20\n",
      "20  Christopher       Olsen  2006-03-30\n",
      "21      Nanette   Cambrault  2006-12-09\n",
      "22       Oliver     Tuvault  2007-11-23\n",
      "23      Janette        King  2004-01-30\n",
      "24      Patrick       Sully  2004-03-04\n",
      "25        Allan      McEwen  2004-08-01\n",
      "26      Lindsey       Smith  2005-03-10\n",
      "27       Louise       Doran  2005-12-15\n",
      "28       Sarath      Sewall  2006-11-03\n",
      "29     Danielle      Greene  2002-03-19\n",
      "30       Mattea     Marvins  2003-05-07\n",
      "31        David         Lee  2005-01-19\n",
      "32       Sundar        Ande  2006-03-24\n",
      "33         Amit       Banda  2006-05-21\n",
      "34         Lisa        Ozer  2007-03-11\n",
      "35     Harrison       Bloom  2006-03-23\n",
      "36       Tayler         Fox  2006-01-24\n",
      "37      William       Smith  2007-02-23\n",
      "38    Elizabeth       Bates  2007-03-24\n",
      "39      Sundita       Kumar  2008-04-21\n",
      "40        Ellen        Abel  2004-05-11\n",
      "41       Alyssa      Hutton  2006-03-19\n",
      "42     Jonathon      Taylor  2006-06-24\n",
      "43         Jack  Livingston  2006-04-23\n",
      "44    Kimberely       Grant  2007-05-24\n",
      "45      Charles     Johnson  2008-01-04\n"
     ]
    },
    {
     "name": "stderr",
     "output_type": "stream",
     "text": [
      "C:\\Users\\DELL\\AppData\\Local\\Temp\\ipykernel_11680\\3723135857.py:7: UserWarning: pandas only supports SQLAlchemy connectable (engine/connection) or database string URI or sqlite3 DBAPI2 connection. Other DBAPI2 objects are not tested. Please consider using SQLAlchemy.\n",
      "  data = pd.read_sql(query, connection)\n"
     ]
    }
   ],
   "source": [
    "query = \"\"\"SELECT first_name, last_name, hire_date\n",
    "FROM employees\n",
    "WHERE department_id = (SELECT department_id\n",
    "\t\t\t\t\t\tFROM employees\n",
    "                        WHERE first_name='Clara' )\n",
    "AND first_name != 'Clara';\"\"\"\n",
    "data = pd.read_sql(query, connection)\n",
    "print(data)"
   ]
  },
  {
   "cell_type": "markdown",
   "id": "9da541fe",
   "metadata": {},
   "source": [
    "Q4. From the following tables, write a SQL query to find those employees who work in a department where the employee’s  first name contains the letter 'T'. Return employee ID, first name and last name."
   ]
  },
  {
   "cell_type": "code",
   "execution_count": 28,
   "id": "75ac99bb",
   "metadata": {},
   "outputs": [
    {
     "name": "stdout",
     "output_type": "stream",
     "text": [
      "   first_name  last_name\n",
      "0      Steven       King\n",
      "1       Neena    Kochhar\n",
      "2         Lex    De Haan\n",
      "3     Matthew      Weiss\n",
      "4        Adam      Fripp\n",
      "..        ...        ...\n",
      "80      Kevin     Feeney\n",
      "81     Donald   OConnell\n",
      "82    Douglas      Grant\n",
      "83    Michael  Hartstein\n",
      "84        Pat        Fay\n",
      "\n",
      "[85 rows x 2 columns]\n"
     ]
    },
    {
     "name": "stderr",
     "output_type": "stream",
     "text": [
      "C:\\Users\\DELL\\AppData\\Local\\Temp\\ipykernel_11680\\3113636094.py:6: UserWarning: pandas only supports SQLAlchemy connectable (engine/connection) or database string URI or sqlite3 DBAPI2 connection. Other DBAPI2 objects are not tested. Please consider using SQLAlchemy.\n",
      "  data = pd.read_sql(query, connection)\n"
     ]
    }
   ],
   "source": [
    "query = \"\"\"SELECT first_name, last_name\n",
    "FROM employees\n",
    "WHERE department_id IN (SELECT department_id \n",
    "\t\t\t\t\t\tFROM employees \n",
    "\t\t\t\t\t\tWHERE first_name LIKE '%T%' );\"\"\"\n",
    "data = pd.read_sql(query, connection)\n",
    "print(data)"
   ]
  },
  {
   "cell_type": "markdown",
   "id": "bf38af74",
   "metadata": {},
   "source": [
    "Q5. From the following table, write a SQL query to find those employees whose salary is lower than that of employees whose job title is ‘MK_MAN’. Return employee ID, first name, last name, job ID."
   ]
  },
  {
   "cell_type": "code",
   "execution_count": 29,
   "id": "fb02e1fb",
   "metadata": {},
   "outputs": [
    {
     "name": "stdout",
     "output_type": "stream",
     "text": [
      "     employee_id first_name  last_name      job_id\n",
      "0            103  Alexander     Hunold     IT_PROG\n",
      "1            104      Bruce      Ernst     IT_PROG\n",
      "2            105      David     Austin     IT_PROG\n",
      "3            106      Valli  Pataballa     IT_PROG\n",
      "4            107      Diana    Lorentz     IT_PROG\n",
      "..           ...        ...        ...         ...\n",
      "96           202        Pat        Fay      MK_REP\n",
      "97           203      Susan     Mavris      HR_REP\n",
      "98           204    Hermann       Baer      PR_REP\n",
      "99           205    Shelley    Higgins      AC_MGR\n",
      "100          206    William      Gietz  AC_ACCOUNT\n",
      "\n",
      "[101 rows x 4 columns]\n"
     ]
    },
    {
     "name": "stderr",
     "output_type": "stream",
     "text": [
      "C:\\Users\\DELL\\AppData\\Local\\Temp\\ipykernel_11680\\3088612359.py:6: UserWarning: pandas only supports SQLAlchemy connectable (engine/connection) or database string URI or sqlite3 DBAPI2 connection. Other DBAPI2 objects are not tested. Please consider using SQLAlchemy.\n",
      "  data = pd.read_sql(query, connection)\n"
     ]
    }
   ],
   "source": [
    "query = \"\"\"SELECT employee_id, first_name, last_name, job_id\n",
    "FROM employees\n",
    "where salary < (SELECT max(salary) \n",
    "\t\t\t\tFROM  employees \n",
    "\t\t\t\tWHERE job_id='MK_MAN');\"\"\"\n",
    "data = pd.read_sql(query, connection)\n",
    "print(data)"
   ]
  },
  {
   "cell_type": "markdown",
   "id": "e6c35395",
   "metadata": {},
   "source": [
    "Q6. Write a query to display the employee id, name ( first name and last name ) and the job id column with a modified title SALESMAN for those employees whose job title is ST_MAN and DEVELOPER for whose job title is IT_PROG."
   ]
  },
  {
   "cell_type": "code",
   "execution_count": 30,
   "id": "dd06acab",
   "metadata": {},
   "outputs": [
    {
     "name": "stdout",
     "output_type": "stream",
     "text": [
      "     employee_id              name   salary SalaryStatus\n",
      "0            100       Steven King  24000.0         HIGH\n",
      "1            101     Neena Kochhar  17000.0         HIGH\n",
      "2            102       Lex De Haan  17000.0         HIGH\n",
      "3            103  Alexander Hunold   9000.0         HIGH\n",
      "4            104       Bruce Ernst   6000.0          LOW\n",
      "..           ...               ...      ...          ...\n",
      "102          202           Pat Fay   6000.0          LOW\n",
      "103          203      Susan Mavris   6500.0         HIGH\n",
      "104          204      Hermann Baer  10000.0         HIGH\n",
      "105          205   Shelley Higgins  12000.0         HIGH\n",
      "106          206     William Gietz   8300.0         HIGH\n",
      "\n",
      "[107 rows x 4 columns]\n"
     ]
    },
    {
     "name": "stderr",
     "output_type": "stream",
     "text": [
      "C:\\Users\\DELL\\AppData\\Local\\Temp\\ipykernel_11680\\3051443695.py:22: UserWarning: pandas only supports SQLAlchemy connectable (engine/connection) or database string URI or sqlite3 DBAPI2 connection. Other DBAPI2 objects are not tested. Please consider using SQLAlchemy.\n",
      "  data = pd.read_sql(query, connection)\n"
     ]
    }
   ],
   "source": [
    "query = \"\"\"SELECT \n",
    "    employee_id, \n",
    "    CONCAT(first_name, ' ', last_name) AS name, \n",
    "    salary,\n",
    "    CASE \n",
    "        WHEN salary > (SELECT AVG(salary) FROM employees) THEN 'HIGH'\n",
    "        WHEN salary < (SELECT AVG(salary) FROM employees) THEN 'LOW'\n",
    "    END AS SalaryStatus\n",
    "FROM employees;\n",
    "\n",
    "\n",
    "SELECT \n",
    "    employee_id, \n",
    "    CONCAT(first_name, ' ', last_name) AS name, \n",
    "    CASE \n",
    "        WHEN job_id = 'ST_MAN' THEN 'SALESMAN'\n",
    "        WHEN job_id = 'IT_PROG' THEN 'DEVELOPER'\n",
    "        ELSE job_id \n",
    "    END AS modified_job_title,\n",
    "    salary\n",
    "FROM employees;\"\"\"\n",
    "data = pd.read_sql(query, connection)\n",
    "print(data)"
   ]
  },
  {
   "cell_type": "markdown",
   "id": "4c5a87a6",
   "metadata": {},
   "source": [
    "Q7. From the following table, write a SQL query to find all those departments where at least one employee is employed. Return department name."
   ]
  },
  {
   "cell_type": "code",
   "execution_count": 35,
   "id": "b5f12b86",
   "metadata": {},
   "outputs": [
    {
     "name": "stdout",
     "output_type": "stream",
     "text": [
      "     department_name\n",
      "0     Administration\n",
      "1          Marketing\n",
      "2         Purchasing\n",
      "3    Human Resources\n",
      "4           Shipping\n",
      "5                 IT\n",
      "6   Public Relations\n",
      "7              Sales\n",
      "8          Executive\n",
      "9            Finance\n",
      "10        Accounting\n"
     ]
    },
    {
     "name": "stderr",
     "output_type": "stream",
     "text": [
      "C:\\Users\\DELL\\AppData\\Local\\Temp\\ipykernel_11680\\1280266608.py:5: UserWarning: pandas only supports SQLAlchemy connectable (engine/connection) or database string URI or sqlite3 DBAPI2 connection. Other DBAPI2 objects are not tested. Please consider using SQLAlchemy.\n",
      "  data = pd.read_sql(query1, connection)\n"
     ]
    }
   ],
   "source": [
    "query1 = \"\"\"SELECT department_name \n",
    "FROM departments\n",
    "where department_id IN(SELECT DISTINCT(department_id) \n",
    "\t\t\t\t\t\tFROM employees);\"\"\"\n",
    "data = pd.read_sql(query1, connection)\n",
    "print(data)"
   ]
  },
  {
   "cell_type": "markdown",
   "id": "51c91e6a",
   "metadata": {},
   "source": [
    "Q8. From the following tables, write a SQL query to find those departments that are locatedin the city of London. Return department ID, department name."
   ]
  },
  {
   "cell_type": "code",
   "execution_count": 37,
   "id": "1b75df6d",
   "metadata": {},
   "outputs": [
    {
     "name": "stdout",
     "output_type": "stream",
     "text": [
      "   department_id  department_name\n",
      "0             40  Human Resources\n"
     ]
    },
    {
     "name": "stderr",
     "output_type": "stream",
     "text": [
      "C:\\Users\\DELL\\AppData\\Local\\Temp\\ipykernel_11680\\1370479764.py:6: UserWarning: pandas only supports SQLAlchemy connectable (engine/connection) or database string URI or sqlite3 DBAPI2 connection. Other DBAPI2 objects are not tested. Please consider using SQLAlchemy.\n",
      "  data = pd.read_sql(query1, connection)\n"
     ]
    }
   ],
   "source": [
    "query1 = \"\"\" SELECT department_id, department_name\n",
    " FROM departments\n",
    " WHERE location_id = (SELECT location_id \n",
    "\t\t\t\t\t\tFROM locations \n",
    "                        where city = 'London');\"\"\"\n",
    "data = pd.read_sql(query1, connection)\n",
    "print(data)"
   ]
  },
  {
   "cell_type": "markdown",
   "id": "580d801b",
   "metadata": {},
   "source": [
    "Q9. From the following table, write a SQL query to find those employees who earn more than the average salary. Sort the result-set in descending order by salary. Return first name, last name, salary, and department ID."
   ]
  },
  {
   "cell_type": "code",
   "execution_count": 39,
   "id": "9328b53a",
   "metadata": {},
   "outputs": [
    {
     "name": "stdout",
     "output_type": "stream",
     "text": [
      "     first_name   last_name  department_id\n",
      "0        Steven        King             90\n",
      "1         Neena     Kochhar             90\n",
      "2           Lex     De Haan             90\n",
      "3          John     Russell             80\n",
      "4         Karen    Partners             80\n",
      "5       Michael   Hartstein             20\n",
      "6         Nancy   Greenberg            100\n",
      "7       Alberto   Errazuriz             80\n",
      "8       Shelley     Higgins            110\n",
      "9          Lisa        Ozer             80\n",
      "10        Ellen        Abel             80\n",
      "11          Den    Raphaely             30\n",
      "12       Gerald   Cambrault             80\n",
      "13        Eleni     Zlotkey             80\n",
      "14     Harrison       Bloom             80\n",
      "15      Janette        King             80\n",
      "16        Peter      Tucker             80\n",
      "17      Hermann        Baer             70\n",
      "18       Tayler         Fox             80\n",
      "19      Patrick       Sully             80\n",
      "20        David   Bernstein             80\n",
      "21    Alexander      Hunold             60\n",
      "22       Daniel      Faviet            100\n",
      "23        Allan      McEwen             80\n",
      "24        Peter        Hall             80\n",
      "25       Alyssa      Hutton             80\n",
      "26     Jonathon      Taylor             80\n",
      "27         Jack  Livingston             80\n",
      "28      William       Gietz            110\n",
      "29         Adam       Fripp             50\n",
      "30         John        Chen            100\n",
      "31      Matthew       Weiss             50\n",
      "32  Christopher       Olsen             80\n",
      "33      Lindsey       Smith             80\n",
      "34        Payam    Kaufling             50\n",
      "35  Jose Manuel       Urman            100\n",
      "36       Ismael     Sciarra            100\n",
      "37      Nanette   Cambrault             80\n",
      "38       Louise       Doran             80\n",
      "39      William       Smith             80\n",
      "40    Elizabeth       Bates             80\n",
      "41       Sarath      Sewall             80\n",
      "42       Oliver     Tuvault             80\n",
      "43    Kimberely       Grant             80\n",
      "44         Luis        Popp            100\n",
      "45        Clara     Vishney             80\n",
      "46       Shanta     Vollman             50\n",
      "47        Susan      Mavris             40\n"
     ]
    },
    {
     "name": "stderr",
     "output_type": "stream",
     "text": [
      "C:\\Users\\DELL\\AppData\\Local\\Temp\\ipykernel_11680\\1098934241.py:6: UserWarning: pandas only supports SQLAlchemy connectable (engine/connection) or database string URI or sqlite3 DBAPI2 connection. Other DBAPI2 objects are not tested. Please consider using SQLAlchemy.\n",
      "  data = pd.read_sql(query1, connection)\n"
     ]
    }
   ],
   "source": [
    "query1 = \"\"\"SELECT first_name, last_name, department_id\n",
    " FROM employees\n",
    " WHERE salary>(SELECT AVG(salary) \n",
    "                FROM employees) \n",
    "ORDER BY salary DESC;\"\"\"\n",
    "data = pd.read_sql(query1, connection)\n",
    "print(data)"
   ]
  },
  {
   "cell_type": "markdown",
   "id": "c7a07654",
   "metadata": {},
   "source": [
    "Q10. From the following table, write a SQL query to find departments for a particular location.The location matches the location of the department of ID 30. Return department name and department ID."
   ]
  },
  {
   "cell_type": "code",
   "execution_count": 40,
   "id": "e9f3d65d",
   "metadata": {},
   "outputs": [
    {
     "name": "stdout",
     "output_type": "stream",
     "text": [
      "         department_name  department_id\n",
      "0         Administration             10\n",
      "1             Purchasing             30\n",
      "2              Executive             90\n",
      "3                Finance            100\n",
      "4             Accounting            110\n",
      "5               Treasury            120\n",
      "6          Corporate Tax            130\n",
      "7     Control And Credit            140\n",
      "8   Shareholder Services            150\n",
      "9               Benefits            160\n",
      "10         Manufacturing            170\n",
      "11          Construction            180\n",
      "12           Contracting            190\n",
      "13            Operations            200\n",
      "14            IT Support            210\n",
      "15                   NOC            220\n",
      "16           IT Helpdesk            230\n",
      "17      Government Sales            240\n",
      "18          Retail Sales            250\n",
      "19            Recruiting            260\n",
      "20               Payroll            270\n"
     ]
    },
    {
     "name": "stderr",
     "output_type": "stream",
     "text": [
      "C:\\Users\\DELL\\AppData\\Local\\Temp\\ipykernel_11680\\3910216051.py:6: UserWarning: pandas only supports SQLAlchemy connectable (engine/connection) or database string URI or sqlite3 DBAPI2 connection. Other DBAPI2 objects are not tested. Please consider using SQLAlchemy.\n",
      "  data = pd.read_sql(query1, connection)\n"
     ]
    }
   ],
   "source": [
    "query1 = \"\"\"SELECT department_name, department_id\n",
    "FROM departments\n",
    "WHERE location_id = (SELECT location_id \n",
    "\t\t\t\t\tFROM departments \n",
    "                    WHERE department_id = 30);\"\"\"\n",
    "data = pd.read_sql(query1, connection)\n",
    "print(data)"
   ]
  },
  {
   "cell_type": "code",
   "execution_count": 42,
   "id": "1daa16fd",
   "metadata": {},
   "outputs": [],
   "source": [
    "connection.close()"
   ]
  },
  {
   "cell_type": "markdown",
   "id": "b9ffbd34",
   "metadata": {},
   "source": [
    "# Dictionary"
   ]
  },
  {
   "cell_type": "code",
   "execution_count": 46,
   "id": "657582de",
   "metadata": {},
   "outputs": [
    {
     "data": {
      "text/plain": [
       "{0: 10, 1: 20, 2: 30}"
      ]
     },
     "execution_count": 46,
     "metadata": {},
     "output_type": "execute_result"
    }
   ],
   "source": [
    "\"\"\"\n",
    "Q1. Write a Python script to add a key to a dictionary.\n",
    "\n",
    "Sample Dictionary : {0: 10, 1: 20}\n",
    "Expected Result : {0: 10, 1: 20, 2: 30}\n",
    "\n",
    "\"\"\"\n",
    "dic= {0: 10, 1: 20}\n",
    "dic.update({2:30})\n",
    "dic"
   ]
  },
  {
   "cell_type": "code",
   "execution_count": 50,
   "id": "591cdb48",
   "metadata": {},
   "outputs": [
    {
     "name": "stdout",
     "output_type": "stream",
     "text": [
      "{1: 10, 2: 20, 3: 30, 4: 40, 5: 50, 6: 60}\n"
     ]
    }
   ],
   "source": [
    "\"\"\"\n",
    "Q2. Write a Python script to concatenate the following dictionaries to create a new one.\n",
    "\n",
    "Sample Dictionary :\n",
    "dic1={1:10, 2:20}\n",
    "dic2={3:30, 4:40}\n",
    "dic3={5:50,6:60}\n",
    "Expected Result : {1: 10, 2: 20, 3: 30, 4: 40, 5: 50, 6: 60}\n",
    "\n",
    "\"\"\"\n",
    "dic4= {}\n",
    "\n",
    "dic1={1:10, 2:20}\n",
    "dic2={3:30, 4:40}\n",
    "dic3={5:50,6:60}\n",
    "\n",
    "for i in (dic1,dic2,dic3):\n",
    "    dic4.update(i)\n",
    "print(dic4)"
   ]
  },
  {
   "cell_type": "code",
   "execution_count": 53,
   "id": "59e4b729",
   "metadata": {},
   "outputs": [
    {
     "name": "stdout",
     "output_type": "stream",
     "text": [
      "{2: 20, 3: 30, 4: 40, 5: 50, 6: 60}\n"
     ]
    }
   ],
   "source": [
    "# Q3. Write a Python program to remove a key from a dictionary.\n",
    "\n",
    "dic4 = {1: 10, 2: 20, 3: 30, 4: 40, 5: 50, 6: 60}\n",
    "if 1 in dic4:\n",
    "    del dic4[1]\n",
    "print(dic4)"
   ]
  },
  {
   "cell_type": "code",
   "execution_count": 57,
   "id": "3fa3babc",
   "metadata": {},
   "outputs": [
    {
     "name": "stdout",
     "output_type": "stream",
     "text": [
      "1:10\n",
      "2:20\n",
      "3:30\n",
      "4:40\n",
      "5:50\n",
      "6:60\n"
     ]
    }
   ],
   "source": [
    "# Q4. Write a Python program to sort a given dictionary by key.\n",
    "\n",
    "dic4 = {1: 10, 2: 20, 3: 30, 5: 50, 4: 40, 6: 60}\n",
    "for key in sorted (dic4):\n",
    "    print(\"%s:%s\" %(key,dic4[key]))"
   ]
  },
  {
   "cell_type": "code",
   "execution_count": 65,
   "id": "110eaa05",
   "metadata": {},
   "outputs": [
    {
     "name": "stdout",
     "output_type": "stream",
     "text": [
      "{'w': 1, '3': 1, 'r': 2, 'e': 2, 's': 1, 'o': 1, 'u': 1, 'c': 1}\n"
     ]
    }
   ],
   "source": [
    "\"\"\"\n",
    "Q5. Write a Python program to create a dictionary from a string.\n",
    "Note: Track the count of the letters from the string.\n",
    "Sample string : 'w3resource'\n",
    "Expected output: {'w': 1, '3': 1, 'r': 2, 'e': 2, 's': 1, 'o': 1, 'u': 1, 'c': 1}\n",
    "\n",
    "\"\"\"\n",
    "dic6 ={}\n",
    "\n",
    "string=  'w3resource'\n",
    "for i in string:\n",
    "    dic6[i] = dic6.get(i,0)+1\n",
    "print(dic6)"
   ]
  },
  {
   "cell_type": "code",
   "execution_count": 75,
   "id": "0b70d48a",
   "metadata": {},
   "outputs": [
    {
     "name": "stdout",
     "output_type": "stream",
     "text": [
      "[18, 22, 20, 18]\n"
     ]
    }
   ],
   "source": [
    "\"\"\"\n",
    "Q6. Write a Python program to convert a list of dictionaries into a list of values corresponding to the specified key.\n",
    "Sample Output:\n",
    "Original list of dictionaries:\n",
    "[{'name': 'Theodore', 'age': 18}, {'name': 'Mathew', 'age': 22}, {'name': 'Roxanne', 'age': 20}, {'name': 'David', 'age': 18}]\n",
    "Convert a list of dictionaries into a list of values corresponding to the specified key:\n",
    "[18, 22, 20, 18]\n",
    "\"\"\"\n",
    "list = []\n",
    "orignal_list = [{'name': 'Theodore', 'age': 18}, {'name': 'Mathew', 'age': 22}, \n",
    "                {'name': 'Roxanne', 'age': 20}, {'name': 'David', 'age': 18}]\n",
    "\n",
    "for i in orignal_list:\n",
    "    list.append(i['age'])\n",
    "print(list)"
   ]
  },
  {
   "cell_type": "code",
   "execution_count": 91,
   "id": "f2481dd0",
   "metadata": {},
   "outputs": [],
   "source": [
    "orignal_list = [{'name': 'Theodore', 'age': 18}, {'name': 'Mathew', 'age': 22}, \n",
    "                {'name': 'Roxanne', 'age': 20}, {'name': 'David', 'age': 18}]"
   ]
  },
  {
   "cell_type": "code",
   "execution_count": 90,
   "id": "7fdd77d8",
   "metadata": {},
   "outputs": [],
   "source": [
    "orignal_list.clear()\n"
   ]
  },
  {
   "cell_type": "code",
   "execution_count": 96,
   "id": "1d53e6aa",
   "metadata": {},
   "outputs": [
    {
     "name": "stdout",
     "output_type": "stream",
     "text": [
      "[{'name': 'Theodore', 'age': 18}, {'name': 'Mathew', 'age': 22}, {'name': 'Roxanne', 'age': 20}, {'name': 'David', 'age': 18}]\n"
     ]
    }
   ],
   "source": [
    "dict5= orignal_list.copy()\n",
    "print(dict5)"
   ]
  },
  {
   "cell_type": "code",
   "execution_count": 97,
   "id": "b0a5e479",
   "metadata": {},
   "outputs": [
    {
     "name": "stdout",
     "output_type": "stream",
     "text": [
      "{'key1': 0, 'key2': 0, 'key3': 0}\n"
     ]
    }
   ],
   "source": [
    "x = ('key1', 'key2', 'key3')\n",
    "y = 0\n",
    "\n",
    "thisdict = dict.fromkeys(x, y)\n",
    "\n",
    "print(thisdict)"
   ]
  },
  {
   "cell_type": "code",
   "execution_count": 98,
   "id": "7492b96b",
   "metadata": {},
   "outputs": [
    {
     "name": "stdout",
     "output_type": "stream",
     "text": [
      "Mustang\n"
     ]
    }
   ],
   "source": [
    "car = {\n",
    "  \"brand\": \"Ford\",\n",
    "  \"model\": \"Mustang\",\n",
    "  \"year\": 1964\n",
    "}\n",
    "\n",
    "x = car.get(\"model\")\n",
    "\n",
    "print(x)"
   ]
  },
  {
   "cell_type": "code",
   "execution_count": 99,
   "id": "5eff3c0c",
   "metadata": {},
   "outputs": [
    {
     "name": "stdout",
     "output_type": "stream",
     "text": [
      "dict_items([('brand', 'Ford'), ('model', 'Mustang'), ('year', 1964)])\n"
     ]
    }
   ],
   "source": [
    "car = {\n",
    "  \"brand\": \"Ford\",\n",
    "  \"model\": \"Mustang\",\n",
    "  \"year\": 1964\n",
    "}\n",
    "\n",
    "x = car.items()\n",
    "\n",
    "print(x)"
   ]
  },
  {
   "cell_type": "code",
   "execution_count": 101,
   "id": "b6f17133",
   "metadata": {},
   "outputs": [
    {
     "name": "stdout",
     "output_type": "stream",
     "text": [
      "dict_keys(['brand', 'model', 'year'])\n"
     ]
    }
   ],
   "source": [
    "car = {\n",
    "  \"brand\": \"Ford\",\n",
    "  \"model\": \"Mustang\",\n",
    "  \"year\": 1964\n",
    "}\n",
    "\n",
    "x = car.keys()\n",
    "\n",
    "print(x)"
   ]
  },
  {
   "cell_type": "code",
   "execution_count": 102,
   "id": "f60bd792",
   "metadata": {},
   "outputs": [
    {
     "name": "stdout",
     "output_type": "stream",
     "text": [
      "{'brand': 'Ford', 'year': 1964}\n"
     ]
    }
   ],
   "source": [
    "car.pop(\"model\")\n",
    "\n",
    "print(car)"
   ]
  },
  {
   "cell_type": "code",
   "execution_count": 103,
   "id": "0cf64e3d",
   "metadata": {},
   "outputs": [
    {
     "name": "stdout",
     "output_type": "stream",
     "text": [
      "{'brand': 'Ford', 'model': 'Mustang'}\n"
     ]
    }
   ],
   "source": [
    "car = {\n",
    "  \"brand\": \"Ford\",\n",
    "  \"model\": \"Mustang\",\n",
    "  \"year\": 1964\n",
    "}\n",
    "\n",
    "car.popitem()\n",
    "\n",
    "print(car)"
   ]
  },
  {
   "cell_type": "code",
   "execution_count": 105,
   "id": "b784510c",
   "metadata": {},
   "outputs": [
    {
     "name": "stdout",
     "output_type": "stream",
     "text": [
      "{'brand': 'Ford', 'model': 'Mustang', 'year': 1964, 'color': 'White'}\n"
     ]
    }
   ],
   "source": [
    "car = {\n",
    "  \"brand\": \"Ford\",\n",
    "  \"model\": \"Mustang\",\n",
    "  \"year\": 1964\n",
    "}\n",
    "\n",
    "car.update({\"color\": \"White\"})\n",
    "\n",
    "print(car)"
   ]
  },
  {
   "cell_type": "code",
   "execution_count": 106,
   "id": "68066e46",
   "metadata": {},
   "outputs": [
    {
     "name": "stdout",
     "output_type": "stream",
     "text": [
      "dict_values(['Ford', 'Mustang', 1964])\n"
     ]
    }
   ],
   "source": [
    "car = {\n",
    "  \"brand\": \"Ford\",\n",
    "  \"model\": \"Mustang\",\n",
    "  \"year\": 1964\n",
    "}\n",
    "\n",
    "x = car.values()\n",
    "\n",
    "print(x)"
   ]
  }
 ],
 "metadata": {
  "hide_input": false,
  "kernelspec": {
   "display_name": "Python 3 (ipykernel)",
   "language": "python",
   "name": "python3"
  },
  "language_info": {
   "codemirror_mode": {
    "name": "ipython",
    "version": 3
   },
   "file_extension": ".py",
   "mimetype": "text/x-python",
   "name": "python",
   "nbconvert_exporter": "python",
   "pygments_lexer": "ipython3",
   "version": "3.11.5"
  }
 },
 "nbformat": 4,
 "nbformat_minor": 5
}
