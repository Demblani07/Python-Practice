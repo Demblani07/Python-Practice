{
 "cells": [
  {
   "cell_type": "code",
   "execution_count": 2,
   "id": "69917367",
   "metadata": {},
   "outputs": [],
   "source": [
    "# Q1 Write a program to find prime numbers between 1 and 100."
   ]
  },
  {
   "cell_type": "code",
   "execution_count": 6,
   "id": "af2f9239",
   "metadata": {},
   "outputs": [
    {
     "name": "stdout",
     "output_type": "stream",
     "text": [
      "2 3 5 7 11 13 17 19 23 29 31 37 41 43 47 53 59 61 67 71 73 79 83 89 97 "
     ]
    }
   ],
   "source": [
    "for num in range(2,101):\n",
    "    for i in range(2,num):\n",
    "        if num % i  ==0:\n",
    "            break\n",
    "    else:\n",
    "        print(num, end = \" \")"
   ]
  },
  {
   "cell_type": "markdown",
   "id": "26b97fec",
   "metadata": {},
   "source": [
    "## Some practice questions from ChatGPT"
   ]
  },
  {
   "cell_type": "code",
   "execution_count": 7,
   "id": "835bae16",
   "metadata": {},
   "outputs": [
    {
     "name": "stdout",
     "output_type": "stream",
     "text": [
      "Enter an number: 50\n",
      "Number is Odd\n"
     ]
    }
   ],
   "source": [
    "# Even or Odd Check\n",
    "# Q1 Write a program that asks the user to input a number and checks if the number is even or odd using if, elif, and else.\n",
    "\n",
    "num = int(input(\"Enter an number: \"))\n",
    "if num/2==1:\n",
    "    print(\"Number is Even\")\n",
    "else:\n",
    "    print(\"Number is Odd\")\n"
   ]
  },
  {
   "cell_type": "code",
   "execution_count": 8,
   "id": "c18cb79c",
   "metadata": {},
   "outputs": [
    {
     "name": "stdout",
     "output_type": "stream",
     "text": [
      "Enter an number(score 0 to 100 ): 100\n",
      "your grade is A\n"
     ]
    }
   ],
   "source": [
    "# Grade Assignment\n",
    "# Q2 Create a program where the user inputs a score between 0 and 100. Use if, elif, and else to assign grades:\n",
    "\"\"\"\n",
    "90-100: A\n",
    "80-89: B\n",
    "70-79: C\n",
    "60-69: D\n",
    "Below 60: F\n",
    "\"\"\"\n",
    "score = int(input(\"Enter an number(score 0 to 100 ): \"))\n",
    "if 90 <= score <=100:\n",
    "    grade = \"A\"\n",
    "elif 80 <= score <=89:\n",
    "    grade = \"B\"\n",
    "elif 70 <= score <=79:\n",
    "    grade = \"C\"\n",
    "elif 60 <= score <=69:\n",
    "    grade = \"D\"\n",
    "elif 0 <= score <60:\n",
    "    grade = \"F\"\n",
    "else:\n",
    "    grade = \"Invail grade\"\n",
    "\n",
    "print(f\"your grade is {grade}\")\n",
    "    "
   ]
  },
  {
   "cell_type": "code",
   "execution_count": 9,
   "id": "54026496",
   "metadata": {},
   "outputs": [
    {
     "name": "stdout",
     "output_type": "stream",
     "text": [
      "Enter a 1st number: 1\n",
      "Enter a 2nd number: 5\n",
      "Enter a 3rd number: 10\n",
      "Largest number is:  10\n"
     ]
    }
   ],
   "source": [
    "# Q3. Write a program to take three numbers as input from the user and determine which one is the largest.\n",
    "\n",
    "num1 = int(input(\"Enter a 1st number: \"))\n",
    "num2 = int(input(\"Enter a 2nd number: \"))\n",
    "num3 = int(input(\"Enter a 3rd number: \"))\n",
    "\n",
    "if num1>num2:\n",
    "    largest = num1\n",
    "elif num2>num3:\n",
    "    largest = num2\n",
    "elif num3>num1:\n",
    "    largest = num3\n",
    "print(f\"Largest number is:  {largest}\") "
   ]
  },
  {
   "cell_type": "code",
   "execution_count": 10,
   "id": "18777d0f",
   "metadata": {},
   "outputs": [
    {
     "name": "stdout",
     "output_type": "stream",
     "text": [
      "Enter a number: 0\n",
      "number is: Zero\n"
     ]
    }
   ],
   "source": [
    "# Q4. Take an input number from the user and check whether it is positive, negative, or zero.\n",
    "\n",
    "num = int(input(\"Enter a number: \"))\n",
    "if num==0:\n",
    "    check = \"Zero\"\n",
    "elif num<0:\n",
    "    check = \"Negative\"\n",
    "else:\n",
    "    check = \"Positive\"\n",
    "print(F\"number is: {check}\")"
   ]
  },
  {
   "cell_type": "code",
   "execution_count": 11,
   "id": "b9cb560a",
   "metadata": {},
   "outputs": [
    {
     "name": "stdout",
     "output_type": "stream",
     "text": [
      "Enter your age: 19\n",
      "your age is: Audlt\n"
     ]
    }
   ],
   "source": [
    "# Q5. Ask the user for their age and print the category they fall into:\n",
    "\n",
    "\"\"\"\n",
    "Below 18: Minor\n",
    "18-60: Adult\n",
    "Above 60: Senior Citizen\n",
    "\"\"\"\n",
    "age = int(input(\"Enter your age: \"))\n",
    "\n",
    "if age <18:\n",
    "    your_age = \"Minor\"\n",
    "\n",
    "elif 18<=age<60:\n",
    "    your_age = \"Audlt\"\n",
    "else:\n",
    "    your_age = \"Seior citizen\"\n",
    "    \n",
    "print(f\"your age is: {your_age}\")"
   ]
  },
  {
   "cell_type": "code",
   "execution_count": 12,
   "id": "55694fd0",
   "metadata": {},
   "outputs": [
    {
     "name": "stdout",
     "output_type": "stream",
     "text": [
      "Enter an year: 2024\n",
      "2024 is a leap year.\n"
     ]
    }
   ],
   "source": [
    "\"\"\"\n",
    "Q6. Write a program to check if a given year is a leap year. \n",
    "A leap year is divisible by 4 but not by 100 unless it is also divisible by 400.\n",
    "\"\"\"\n",
    "year = int(input(\"Enter an year: \"))\n",
    "\n",
    "if (year % 4 ==0 and year % 100 != 0) or (year%400==0):\n",
    "    print(f\"{year} is a leap year.\")\n",
    "else:\n",
    "    print(f\"{year} is not a leap year.\")\n",
    "    "
   ]
  },
  {
   "cell_type": "code",
   "execution_count": 13,
   "id": "c1fc38cb",
   "metadata": {},
   "outputs": [
    {
     "name": "stdout",
     "output_type": "stream",
     "text": [
      "Enter a number: 51\n",
      "Number is: large\n"
     ]
    }
   ],
   "source": [
    "# Q7.Write a program to check if a number lies within a specific range:\n",
    "\"\"\"\n",
    "1-10: Small\n",
    "11-50: Medium\n",
    "51-100: Large\n",
    "Else: Out of range\n",
    "\"\"\"\n",
    "num1 = int(input(\"Enter a number: \"))\n",
    "if 1<= num1 <=10:\n",
    "    result = \"Small\"\n",
    "elif 11 <= num1 <= 50:\n",
    "    result = \"Medium\"\n",
    "elif 51 <= num1 <= 100:\n",
    "    result = \"large\"\n",
    "else:\n",
    "    result = \"Out of range\"\n",
    "print(f\"Number is: {result}\")    "
   ]
  },
  {
   "cell_type": "code",
   "execution_count": 14,
   "id": "f8db2ff9",
   "metadata": {},
   "outputs": [
    {
     "name": "stdout",
     "output_type": "stream",
     "text": [
      "Enter username: admin\n",
      "Enter password: 1234\n",
      "Login Successfull\n"
     ]
    }
   ],
   "source": [
    "\"\"\"\n",
    "Q8. Login System\n",
    "Simulate a login system where:\n",
    "\n",
    "If the username is \"admin\" and the password is \"1234\", print \"Login successful\".\n",
    "If only the username is correct, print \"Incorrect password\".\n",
    "If only the password is correct, print \"Incorrect username\".\n",
    "Else, print \"Invalid credentials\". \n",
    "\"\"\"\n",
    "username = input(\"Enter username: \")\n",
    "password = int(input(\"Enter password: \"))\n",
    "\n",
    "if (username==\"admin\" and password==1234):\n",
    "    print(\"Login Successfull\")\n",
    "elif username == \"admin\" :\n",
    "    print(\"Incorrect password\")\n",
    "elif password == 1234:\n",
    "    print(\"Incorrect username\")\n",
    "else:\n",
    "    print(\"Invalid credentials\")"
   ]
  },
  {
   "cell_type": "code",
   "execution_count": null,
   "id": "386365ca",
   "metadata": {},
   "outputs": [],
   "source": []
  }
 ],
 "metadata": {
  "hide_input": false,
  "kernelspec": {
   "display_name": "Python 3 (ipykernel)",
   "language": "python",
   "name": "python3"
  },
  "language_info": {
   "codemirror_mode": {
    "name": "ipython",
    "version": 3
   },
   "file_extension": ".py",
   "mimetype": "text/x-python",
   "name": "python",
   "nbconvert_exporter": "python",
   "pygments_lexer": "ipython3",
   "version": "3.11.5"
  }
 },
 "nbformat": 4,
 "nbformat_minor": 5
}
