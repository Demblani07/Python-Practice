{
 "cells": [
  {
   "cell_type": "markdown",
   "id": "f9c80544",
   "metadata": {},
   "source": [
    "Q1. Write a program that accepts 2 numbers from \n",
    "the user and performs division use error handing for case where\n",
    "user tries to divide number by 0 or input a non-numeric value."
   ]
  },
  {
   "cell_type": "code",
   "execution_count": 8,
   "id": "639d36fb",
   "metadata": {},
   "outputs": [
    {
     "name": "stdout",
     "output_type": "stream",
     "text": [
      "Enter the first number: 50\n",
      "Enter the second number: 50\n",
      "The result of 50.0 divided by 50.0 is 1.0\n"
     ]
    }
   ],
   "source": [
    "try:\n",
    "    num1 = float(input(\"Enter the first number: \"))\n",
    "    num2 = float(input(\"Enter the second number: \"))\n",
    "    \n",
    "    # Perform division\n",
    "    result = num1 / num2\n",
    "    print(f\"The result of {num1} divided by {num2} is {result}\")\n",
    "except ZeroDivisionError:\n",
    "    print(\"Error: Division by zero is not allowed.\")\n",
    "except ValueError:\n",
    "    print(\"Error: Please enter numeric values only.\")\n"
   ]
  },
  {
   "cell_type": "markdown",
   "id": "474b1574",
   "metadata": {},
   "source": [
    "Q2. Create a program where the user inputs a filename. Use try and except to handle the FileNotFoundError when attempting to open a file that doesn’t exist. Add an else block to read and print the content of the file if it opens successfully."
   ]
  },
  {
   "cell_type": "code",
   "execution_count": 13,
   "id": "2ab4687c",
   "metadata": {},
   "outputs": [
    {
     "name": "stdout",
     "output_type": "stream",
     "text": [
      "The content of the file:\n",
      "45\n",
      "100\n",
      "150\n",
      "160\n",
      "140\n",
      "20.5\n"
     ]
    }
   ],
   "source": [
    "try:\n",
    "    file = open('m.txt', 'r')\n",
    "except FileNotFoundError as e:\n",
    "    print('File is not found.')\n",
    "else:\n",
    "    print('The content of the file:')\n",
    "    print(file.read()) \n",
    "    file.close()"
   ]
  },
  {
   "cell_type": "markdown",
   "id": "c24e3d93",
   "metadata": {},
   "source": [
    "Q3. Write a Python function that takes two inputs: a numerator and a denominator. Use try, except, and else to handle both ZeroDivisionError and TypeError (e.g., if the inputs are non-numeric). Print appropriate error messages for each exception."
   ]
  },
  {
   "cell_type": "code",
   "execution_count": 14,
   "id": "cfda5622",
   "metadata": {},
   "outputs": [
    {
     "name": "stdout",
     "output_type": "stream",
     "text": [
      "Division successful! The result is: 5.0\n",
      "Error: Division by zero is not allowed.\n",
      "Error: Both numerator and denominator must be numbers.\n"
     ]
    }
   ],
   "source": [
    "def safe_division(numerator, denominator):\n",
    "    try:\n",
    "        result = numerator / denominator\n",
    "    except ZeroDivisionError:\n",
    "        print(\"Error: Division by zero is not allowed.\")\n",
    "    except TypeError:\n",
    "        print(\"Error: Both numerator and denominator must be numbers.\")\n",
    "    else:\n",
    "        print(f\"Division successful! The result is: {result}\")\n",
    "\n",
    "safe_division(10, 2) \n",
    "safe_division(10, 0)  \n",
    "safe_division(10, \"a\")"
   ]
  },
  {
   "cell_type": "markdown",
   "id": "908eb49c",
   "metadata": {},
   "source": [
    "Q4. Explain the purpose of the else block in a try-except structure. Why might you use an else block instead of just putting all non-error code inside the try block? Provide an example to support your explanation."
   ]
  },
  {
   "cell_type": "code",
   "execution_count": 16,
   "id": "c8687c64",
   "metadata": {},
   "outputs": [
    {
     "name": "stdout",
     "output_type": "stream",
     "text": [
      "Enter numerator: 48\n",
      "Enter denominator: 15\n",
      "The result is: 3.2\n"
     ]
    }
   ],
   "source": [
    "try:\n",
    "    numerator = int(input(\"Enter numerator: \"))\n",
    "    denominator = int(input(\"Enter denominator: \"))\n",
    "    result = numerator / denominator\n",
    "except ZeroDivisionError:\n",
    "    print(\"Error: Division by zero is not allowed.\")\n",
    "except ValueError:\n",
    "    print(\"Error: Please enter valid integers.\")\n",
    "else:\n",
    "    print(f\"The result is: {result}\")\n"
   ]
  },
  {
   "cell_type": "code",
   "execution_count": null,
   "id": "acf0fbdd",
   "metadata": {},
   "outputs": [],
   "source": []
  },
  {
   "cell_type": "code",
   "execution_count": null,
   "id": "67b281bb",
   "metadata": {},
   "outputs": [],
   "source": []
  }
 ],
 "metadata": {
  "hide_input": false,
  "kernelspec": {
   "display_name": "Python 3 (ipykernel)",
   "language": "python",
   "name": "python3"
  },
  "language_info": {
   "codemirror_mode": {
    "name": "ipython",
    "version": 3
   },
   "file_extension": ".py",
   "mimetype": "text/x-python",
   "name": "python",
   "nbconvert_exporter": "python",
   "pygments_lexer": "ipython3",
   "version": "3.11.5"
  }
 },
 "nbformat": 4,
 "nbformat_minor": 5
}
