{
 "cells": [
  {
   "cell_type": "code",
   "execution_count": 1,
   "id": "716babfd",
   "metadata": {},
   "outputs": [],
   "source": [
    "# Q1. Write a program that defines a function to calculate the factorial of a number."
   ]
  },
  {
   "cell_type": "code",
   "execution_count": 47,
   "id": "fe60af0a",
   "metadata": {},
   "outputs": [
    {
     "name": "stdout",
     "output_type": "stream",
     "text": [
      "Enter a number: 10\n",
      "Factorial is: 3628800\n"
     ]
    }
   ],
   "source": [
    "def cal_factorial():  \n",
    "    number = int(input(\"Enter a number: \"))\n",
    "    result = 1\n",
    "    i=1\n",
    "    while i<= number:\n",
    "        result*=i\n",
    "        i+=1\n",
    "    return result\n",
    "print(\"Factorial is:\", cal_factorial())"
   ]
  },
  {
   "cell_type": "code",
   "execution_count": null,
   "id": "eb53d402",
   "metadata": {},
   "outputs": [],
   "source": [
    "#chatgpt Question"
   ]
  },
  {
   "cell_type": "code",
   "execution_count": 8,
   "id": "f25dd99b",
   "metadata": {},
   "outputs": [
    {
     "name": "stdout",
     "output_type": "stream",
     "text": [
      "Lenght of list is:  4\n"
     ]
    }
   ],
   "source": [
    "\"\"\"\n",
    "How would you use the len() function to determine the number of elements in a list?\n",
    "Write a code example with a list of fruits.\n",
    "\"\"\"\n",
    "def len_function():\n",
    "    fruits = ['Apple','Mango','Banana','orange']\n",
    "    return len(fruits)\n",
    "print(\"Lenght of list is: \",(len_function()))"
   ]
  },
  {
   "cell_type": "code",
   "execution_count": 23,
   "id": "20e565d7",
   "metadata": {},
   "outputs": [
    {
     "name": "stdout",
     "output_type": "stream",
     "text": [
      "Enter first number: 10\n",
      "Enter second number: 10\n",
      "sum of two number: 20\n"
     ]
    }
   ],
   "source": [
    "\"\"\"\n",
    "Basic Function\n",
    "Write a user-defined function called add_numbers(a, b) that takes two numbers as input and returns their sum.\n",
    "\"\"\"\n",
    "def add_number(a,b):\n",
    "    return a+b\n",
    "\n",
    "num1 = int(input(\"Enter first number: \"))\n",
    "num2 = int(input(\"Enter second number: \"))\n",
    "result = add_number(num1, num2)\n",
    "\n",
    "print(\"sum of two number:\",result)    "
   ]
  },
  {
   "cell_type": "code",
   "execution_count": 34,
   "id": "085f7147",
   "metadata": {},
   "outputs": [
    {
     "name": "stdout",
     "output_type": "stream",
     "text": [
      "The largest number is: 40\n"
     ]
    }
   ],
   "source": [
    "\"\"\"\n",
    "Function with Multiple Parameters\n",
    "Write a function find_largest(a, b, c) that takes three numbers as arguments and returns the largest among them.\n",
    "\"\"\"\n",
    "def find_largest(a,b,c):\n",
    "    if a>=b and a>=c:\n",
    "        return a\n",
    "    elif b>=a and b>=c:\n",
    "        return b\n",
    "    else:\n",
    "        return c\n",
    "largest = find_largest(30, 40, 35)\n",
    "print(f\"The largest number is: {largest}\")"
   ]
  },
  {
   "cell_type": "code",
   "execution_count": 38,
   "id": "f84d5cc1",
   "metadata": {},
   "outputs": [
    {
     "name": "stdout",
     "output_type": "stream",
     "text": [
      "Enter celsius temperature: 10\n",
      "fahrenheit temperature is: 50.0\n"
     ]
    }
   ],
   "source": [
    "\"\"\"\n",
    "Function with Return Statement\n",
    "Create a function convert_to_celsius(fahrenheit) that takes a \n",
    "temperature in Fahrenheit and returns the equivalent temperature in Celsius.\n",
    "\"\"\"\n",
    "\n",
    "def convert_to_celsius(fahrenheit):\n",
    "     return C * 9/5 + 32\n",
    "\n",
    "C = int(input(\"Enter celsius temperature: \"))\n",
    "print(\"fahrenheit temperature is:\",convert_to_celsius(num))\n"
   ]
  },
  {
   "cell_type": "code",
   "execution_count": 44,
   "id": "572b1062",
   "metadata": {},
   "outputs": [
    {
     "name": "stdout",
     "output_type": "stream",
     "text": [
      "Average is: 25.0\n"
     ]
    }
   ],
   "source": [
    "\"\"\"\n",
    "Function with a List\n",
    "Define a function calculate_average(numbers) that accepts a list of numbers and returns their average.\n",
    "\"\"\"\n",
    "\n",
    "def calculate_average(numbers):\n",
    "    return sum(numbers)/len(numbers)\n",
    "\n",
    "list1 = [10,20,30,40]\n",
    "print(\"Average is:\",calculate_average(list1))"
   ]
  },
  {
   "cell_type": "code",
   "execution_count": 46,
   "id": "c7dfc22f",
   "metadata": {},
   "outputs": [
    {
     "name": "stdout",
     "output_type": "stream",
     "text": [
      "Enter a string: pradeep\n",
      "Reverse string is: peedarp\n"
     ]
    }
   ],
   "source": [
    "\"\"\"\n",
    "String Manipulation Function\n",
    "Write a function reverse_string(s) that takes a string as input and returns the reversed version of the string.\n",
    "\n",
    "\"\"\"\n",
    "def reverse_string(s):\n",
    "     return ''.join(reversed(s)) \n",
    "\n",
    "input_string = input(\"Enter a string: \")\n",
    "print(\"Reverse string is:\", reverse_string(input_string))"
   ]
  },
  {
   "cell_type": "code",
   "execution_count": 50,
   "id": "4fbbf68f",
   "metadata": {},
   "outputs": [
    {
     "name": "stdout",
     "output_type": "stream",
     "text": [
      "False\n",
      "True\n"
     ]
    }
   ],
   "source": [
    "\"\"\"\n",
    "Odd/Even Check Function\n",
    "Write a function is_even(number) that returns True if the number is even, and False if it is odd.\n",
    "\n",
    "\"\"\"\n",
    "def is_even(number):\n",
    "    if number % 2 == 0:\n",
    "        return True\n",
    "    else:\n",
    "        return False\n",
    "\n",
    "# Example usage\n",
    "print(is_even(3))  # Output: False\n",
    "print(is_even(4))  # Output: True"
   ]
  },
  {
   "cell_type": "code",
   "execution_count": null,
   "id": "f48216e7",
   "metadata": {},
   "outputs": [],
   "source": []
  }
 ],
 "metadata": {
  "hide_input": false,
  "kernelspec": {
   "display_name": "Python 3 (ipykernel)",
   "language": "python",
   "name": "python3"
  },
  "language_info": {
   "codemirror_mode": {
    "name": "ipython",
    "version": 3
   },
   "file_extension": ".py",
   "mimetype": "text/x-python",
   "name": "python",
   "nbconvert_exporter": "python",
   "pygments_lexer": "ipython3",
   "version": "3.11.5"
  }
 },
 "nbformat": 4,
 "nbformat_minor": 5
}
