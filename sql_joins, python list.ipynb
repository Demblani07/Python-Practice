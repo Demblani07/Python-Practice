{
 "cells": [
  {
   "cell_type": "markdown",
   "id": "e1570007",
   "metadata": {},
   "source": [
    "# Joins web site https://www.sql-practice.com/"
   ]
  },
  {
   "cell_type": "markdown",
   "id": "b58adf23",
   "metadata": {},
   "source": [
    "Q1. Show first name, last name, and the full province name of each patient\n",
    "    Example: 'Ontario' instead of 'ON'\n",
    " \n",
    "Query:- \n",
    "SELECT p.first_name,p.last_name, pn.province_name \n",
    "FROM patients as p left join province_names as pn\n",
    "on p.province_id=pn.province_id; "
   ]
  },
  {
   "cell_type": "markdown",
   "id": "9df8b9f9",
   "metadata": {},
   "source": [
    "Q2. Show patient_id, first_name, last_name from patients whos diagnosis is 'Dementia'.\n",
    "    Primary diagnosis is stored in the admissions table.\n",
    "\n",
    "Query:-\n",
    "select p.patient_id, p.first_name, p.last_name\n",
    "from patients as p left join admissions as ad\n",
    "on p.patient_id=ad.patient_id\n",
    "where ad.diagnosis='Dementia';\n"
   ]
  },
  {
   "cell_type": "markdown",
   "id": "e13dd911",
   "metadata": {},
   "source": [
    "Q3. Show first_name, last_name, and the total number of admissions attended for each doctor.\n",
    "    Every admission has been attended by a doctor.\n",
    "\n",
    "Query:- \n",
    "select d.first_name, d.last_name, count(ad.patient_id) as 'Total_admissions'\n",
    "from admissions as ad left join doctors as d\n",
    "on ad.attending_doctor_id = d.doctor_id\n",
    "group by d.first_name, d.last_name;\n"
   ]
  },
  {
   "cell_type": "markdown",
   "id": "8256077c",
   "metadata": {},
   "source": [
    "Q4. For each doctor, display their id, full name, and the first and last admission date they attended.\n",
    "\n",
    "Query:- \n",
    "\n",
    "SELECT d.doctor_id, CONCAT(d.first_name, ' ', d.last_name) AS Full_Name, \n",
    "    MIN(ad.admission_date) AS First_Admission, \n",
    "    MAX(ad.admission_date) AS Last_Admission\n",
    "FROM admissions AS ad LEFT JOIN doctors AS d\n",
    "ON ad.attending_doctor_id = d.doctor_id\n",
    "GROUP BY d.doctor_id;"
   ]
  },
  {
   "cell_type": "markdown",
   "id": "b23d9c37",
   "metadata": {},
   "source": [
    "Q5. Display the total amount of patients for each province. Order by descending.\n",
    "\n",
    "Query:- \n",
    "select pn.province_name, count(pn.province_id) as patient_count\n",
    "from patients p left join province_names pn\n",
    "on p.province_id=pn.province_id\n",
    "group by pn.province_name\n",
    "order by patient_count DESC;"
   ]
  },
  {
   "cell_type": "markdown",
   "id": "9c5188c0",
   "metadata": {},
   "source": [
    "Q6. For every admission, display the patient's full name, their admission diagnosis, \n",
    "and their doctor's full name who diagnosed their problem.\n",
    "\n",
    "Query:- \n",
    "select concat(p.first_name,' ',p.last_name) as patient_name,\n",
    "ad.diagnosis, \n",
    "concat(d.first_name,' ',d.last_name) as Doctor_name \n",
    "from patients as p right join admissions as ad\n",
    "on ad.patient_id= p.patient_id\n",
    "right join doctors as d\n",
    "on ad.attending_doctor_id = d.doctor_id;"
   ]
  },
  {
   "cell_type": "markdown",
   "id": "511b0ed6",
   "metadata": {},
   "source": [
    "Q7. Show patient_id, first_name, last_name, and attending doctor's specialty.\n",
    "   Show only the patients who has a diagnosis as 'Epilepsy' and the doctor's first name is 'Lisa' \n",
    "   Check patients, admissions, and doctors tables for required information.\n",
    "\n",
    "Query:-\n",
    "\n",
    "select p.patient_id, \n",
    "p.first_name as patient_first_name, \n",
    "p.last_name as patient_last_name,\n",
    "d.specialty as attending_doctor_specialty\n",
    "from patients as p right join admissions as ad\n",
    "on ad.patient_id= p.patient_id\n",
    "right join doctors as d\n",
    "on ad.attending_doctor_id = d.doctor_id\n",
    "where ad.diagnosis = 'Epilepsy' and d.first_name='Lisa';"
   ]
  },
  {
   "cell_type": "markdown",
   "id": "c87cb8cb",
   "metadata": {},
   "source": [
    "Q8. \n",
    "You Got The Query Correct\n",
    "View All Questions\n",
    "Next Question\n",
    "\n",
    "Easy\n",
    "All patients who have gone through admissions, can see their medical documents on our site. Those patients are given a temporary password after their first admission. Show the patient_id and temp_password.\n",
    "\n",
    "The password must be the following, in order:\n",
    "1. patient_id\n",
    "2. the numerical length of patient's last_name\n",
    "3. year of patient's birth_date\n",
    "\n",
    "Query:- \n",
    "\n",
    "SELECT DISTINCT P.patient_id,\n",
    "CONCAT(P.patient_id,LEN(last_name),YEAR(birth_date)) AS temp_password\n",
    "FROM patients P JOIN admissions A \n",
    "ON A.patient_id = P.patient_id; "
   ]
  },
  {
   "cell_type": "markdown",
   "id": "5a4ec83c",
   "metadata": {},
   "source": [
    "## list Question from w3resource"
   ]
  },
  {
   "cell_type": "code",
   "execution_count": 12,
   "id": "1c8111b6",
   "metadata": {},
   "outputs": [
    {
     "name": "stdout",
     "output_type": "stream",
     "text": [
      "59\n"
     ]
    }
   ],
   "source": [
    "# Q1. Write a Python program to sum all the items in a list.\n",
    "\n",
    "list1 = [10,15,16,18]\n",
    "sum_number = 0\n",
    "for x in list1:\n",
    "    sum_number+=x\n",
    "print(sum_number)"
   ]
  },
  {
   "cell_type": "code",
   "execution_count": 10,
   "id": "48d1ca7b",
   "metadata": {},
   "outputs": [
    {
     "name": "stdout",
     "output_type": "stream",
     "text": [
      "43200\n"
     ]
    }
   ],
   "source": [
    "# Q2. Write a Python program to multiply all the items in a list.\n",
    "total = 1\n",
    "for i in list1:\n",
    "    total*=i\n",
    "print(total)"
   ]
  },
  {
   "cell_type": "code",
   "execution_count": 16,
   "id": "11c4aedc",
   "metadata": {},
   "outputs": [
    {
     "name": "stdout",
     "output_type": "stream",
     "text": [
      "20\n"
     ]
    }
   ],
   "source": [
    "# Q3. Write a Python program to get the largest number from a list.\n",
    "list2 = [10,20,9,18]\n",
    "largest_number = list2[0]\n",
    "for i in list2:\n",
    "    if i>largest_number:\n",
    "        largest_number =i\n",
    "print(largest_number)"
   ]
  },
  {
   "cell_type": "code",
   "execution_count": 17,
   "id": "994d7716",
   "metadata": {},
   "outputs": [
    {
     "name": "stdout",
     "output_type": "stream",
     "text": [
      "9\n"
     ]
    }
   ],
   "source": [
    "# Q4. Write a Python program to get the smallest number from a list.\n",
    "smallest_number = list2[0]\n",
    "for i in list2:\n",
    "    if i<smallest_number:\n",
    "        smallest_number =i\n",
    "print(smallest_number)"
   ]
  },
  {
   "cell_type": "code",
   "execution_count": 3,
   "id": "66393925",
   "metadata": {},
   "outputs": [
    {
     "name": "stdout",
     "output_type": "stream",
     "text": [
      "2\n"
     ]
    }
   ],
   "source": [
    "\"\"\"\n",
    "Q5. \n",
    "Write a Python program to count the number of strings from a given list of strings. \n",
    "The string length is 2 or more and the first and last characters are the same.\n",
    "Sample List : ['abc', 'xyz', 'aba', '1221']\n",
    "Expected Result : 2\n",
    "\"\"\"\n",
    "Sample_List =  ['abc', 'xyz', 'aba', '1221']\n",
    "ctr = 0\n",
    "for word in Sample_List:\n",
    "        if len(word) > 1 and word[0] == word[-1]:\n",
    "            ctr += 1\n",
    "print(ctr)"
   ]
  },
  {
   "cell_type": "markdown",
   "id": "2c853a4f",
   "metadata": {},
   "source": [
    "# Methods of list"
   ]
  },
  {
   "cell_type": "markdown",
   "id": "7eb55c08",
   "metadata": {},
   "source": [
    "append()\tAdds an element at the end of the list\n",
    "clear()\tRemoves all the elements from the list\n",
    "copy()\tReturns a copy of the list\n",
    "count()\tReturns the number of elements with the specified value\n",
    "extend()\tAdd the elements of a list (or any iterable), to the end of the current list\n",
    "index()\tReturns the index of the first element with the specified value\n",
    "insert()\tAdds an element at the specified position\n",
    "pop()\tRemoves the element at the specified position\n",
    "remove()\tRemoves the first item with the specified value\n",
    "reverse()\tReverses the order of the list\n",
    "sort()\tSorts the list"
   ]
  },
  {
   "cell_type": "code",
   "execution_count": 6,
   "id": "705693cb",
   "metadata": {},
   "outputs": [
    {
     "name": "stdout",
     "output_type": "stream",
     "text": [
      "[1, 2, 3, 4, 5, 2]\n"
     ]
    }
   ],
   "source": [
    "list=[1,2,3,4,5]\n",
    "list.append(2)\n",
    "print(list)"
   ]
  },
  {
   "cell_type": "code",
   "execution_count": 8,
   "id": "bef1943e",
   "metadata": {},
   "outputs": [],
   "source": [
    "list.clear() # remove all element in the list"
   ]
  },
  {
   "cell_type": "code",
   "execution_count": 9,
   "id": "3e7d0904",
   "metadata": {},
   "outputs": [
    {
     "name": "stdout",
     "output_type": "stream",
     "text": [
      "[]\n"
     ]
    }
   ],
   "source": [
    "print(list)"
   ]
  },
  {
   "cell_type": "code",
   "execution_count": 10,
   "id": "57105931",
   "metadata": {},
   "outputs": [
    {
     "name": "stdout",
     "output_type": "stream",
     "text": [
      "[1, 2, 3, 4, 6]\n"
     ]
    }
   ],
   "source": [
    "list3 =[1,2,3,4,6]\n",
    "x= list3.copy()\n",
    "print(x)"
   ]
  },
  {
   "cell_type": "code",
   "execution_count": 16,
   "id": "6ad1c196",
   "metadata": {},
   "outputs": [
    {
     "data": {
      "text/plain": [
       "1"
      ]
     },
     "execution_count": 16,
     "metadata": {},
     "output_type": "execute_result"
    }
   ],
   "source": [
    "fruits = ['apple', 'banana', 'cherry'] \n",
    "\n",
    "x = fruits.count(\"cherry\")\n",
    "x"
   ]
  },
  {
   "cell_type": "code",
   "execution_count": 17,
   "id": "f1c80189",
   "metadata": {},
   "outputs": [],
   "source": [
    "fruits = ['apple', 'banana', 'cherry']\n",
    "\n",
    "cars = ['Ford', 'BMW', 'Volvo']\n",
    "\n",
    "fruits.extend(cars)"
   ]
  },
  {
   "cell_type": "code",
   "execution_count": 19,
   "id": "eeda20bb",
   "metadata": {},
   "outputs": [
    {
     "data": {
      "text/plain": [
       "['apple', 'banana', 'cherry', 'Ford', 'BMW', 'Volvo']"
      ]
     },
     "execution_count": 19,
     "metadata": {},
     "output_type": "execute_result"
    }
   ],
   "source": [
    "fruits"
   ]
  },
  {
   "cell_type": "code",
   "execution_count": 22,
   "id": "77defbf6",
   "metadata": {},
   "outputs": [
    {
     "data": {
      "text/plain": [
       "2"
      ]
     },
     "execution_count": 22,
     "metadata": {},
     "output_type": "execute_result"
    }
   ],
   "source": [
    "fruits = ['apple', 'banana', 'cherry']\n",
    "\n",
    "x = fruits.index(\"cherry\")\n",
    "x"
   ]
  },
  {
   "cell_type": "code",
   "execution_count": 23,
   "id": "126e08f5",
   "metadata": {},
   "outputs": [],
   "source": [
    "fruits = ['apple', 'banana', 'cherry']\n",
    "\n",
    "fruits.insert(1, \"orange\")"
   ]
  },
  {
   "cell_type": "code",
   "execution_count": 24,
   "id": "7750d3cb",
   "metadata": {},
   "outputs": [
    {
     "data": {
      "text/plain": [
       "['apple', 'orange', 'banana', 'cherry']"
      ]
     },
     "execution_count": 24,
     "metadata": {},
     "output_type": "execute_result"
    }
   ],
   "source": [
    "fruits"
   ]
  },
  {
   "cell_type": "code",
   "execution_count": 25,
   "id": "be6656df",
   "metadata": {},
   "outputs": [
    {
     "data": {
      "text/plain": [
       "'banana'"
      ]
     },
     "execution_count": 25,
     "metadata": {},
     "output_type": "execute_result"
    }
   ],
   "source": [
    "fruits = ['apple', 'banana', 'cherry']\n",
    "\n",
    "fruits.pop(1)"
   ]
  },
  {
   "cell_type": "code",
   "execution_count": 26,
   "id": "5b346e13",
   "metadata": {},
   "outputs": [
    {
     "data": {
      "text/plain": [
       "['apple', 'cherry']"
      ]
     },
     "execution_count": 26,
     "metadata": {},
     "output_type": "execute_result"
    }
   ],
   "source": [
    "fruits"
   ]
  },
  {
   "cell_type": "code",
   "execution_count": 27,
   "id": "486405b5",
   "metadata": {},
   "outputs": [],
   "source": [
    "fruits = ['apple', 'banana', 'cherry']\n",
    "\n",
    "fruits.remove(\"banana\")"
   ]
  },
  {
   "cell_type": "code",
   "execution_count": 28,
   "id": "e4163b0c",
   "metadata": {},
   "outputs": [
    {
     "data": {
      "text/plain": [
       "['apple', 'cherry']"
      ]
     },
     "execution_count": 28,
     "metadata": {},
     "output_type": "execute_result"
    }
   ],
   "source": [
    "fruits"
   ]
  },
  {
   "cell_type": "code",
   "execution_count": 29,
   "id": "93bd7c76",
   "metadata": {},
   "outputs": [],
   "source": [
    "fruits = ['apple', 'banana', 'cherry']\n",
    "\n",
    "fruits.reverse()"
   ]
  },
  {
   "cell_type": "code",
   "execution_count": 30,
   "id": "7beac180",
   "metadata": {},
   "outputs": [
    {
     "data": {
      "text/plain": [
       "['cherry', 'banana', 'apple']"
      ]
     },
     "execution_count": 30,
     "metadata": {},
     "output_type": "execute_result"
    }
   ],
   "source": [
    "fruits"
   ]
  },
  {
   "cell_type": "code",
   "execution_count": 31,
   "id": "546c2fd9",
   "metadata": {},
   "outputs": [],
   "source": [
    "cars = ['Ford', 'BMW', 'Volvo']\n",
    "\n",
    "cars.sort()"
   ]
  },
  {
   "cell_type": "code",
   "execution_count": 32,
   "id": "21a6eab8",
   "metadata": {},
   "outputs": [
    {
     "data": {
      "text/plain": [
       "['BMW', 'Ford', 'Volvo']"
      ]
     },
     "execution_count": 32,
     "metadata": {},
     "output_type": "execute_result"
    }
   ],
   "source": [
    "cars"
   ]
  },
  {
   "cell_type": "code",
   "execution_count": null,
   "id": "832ad511",
   "metadata": {},
   "outputs": [],
   "source": []
  },
  {
   "cell_type": "code",
   "execution_count": null,
   "id": "08fb8a6f",
   "metadata": {},
   "outputs": [],
   "source": []
  }
 ],
 "metadata": {
  "hide_input": false,
  "kernelspec": {
   "display_name": "Python 3 (ipykernel)",
   "language": "python",
   "name": "python3"
  },
  "language_info": {
   "codemirror_mode": {
    "name": "ipython",
    "version": 3
   },
   "file_extension": ".py",
   "mimetype": "text/x-python",
   "name": "python",
   "nbconvert_exporter": "python",
   "pygments_lexer": "ipython3",
   "version": "3.11.5"
  }
 },
 "nbformat": 4,
 "nbformat_minor": 5
}
