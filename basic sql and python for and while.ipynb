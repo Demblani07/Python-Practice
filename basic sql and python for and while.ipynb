{
 "cells": [
  {
   "cell_type": "code",
   "execution_count": 2,
   "id": "dc047232",
   "metadata": {},
   "outputs": [],
   "source": [
    "import pandas as pd\n",
    "import mysql.connector"
   ]
  },
  {
   "cell_type": "code",
   "execution_count": 4,
   "id": "5bfd7bdb",
   "metadata": {},
   "outputs": [
    {
     "data": {
      "text/plain": [
       "<mysql.connector.connection_cext.CMySQLConnection at 0x12773c83750>"
      ]
     },
     "execution_count": 4,
     "metadata": {},
     "output_type": "execute_result"
    }
   ],
   "source": [
    "connection = mysql.connector.connect(host=\"localhost\",user = \"root\", password = \"root\",database=\"exl\")\n",
    "connection"
   ]
  },
  {
   "cell_type": "markdown",
   "id": "d1c4ca78",
   "metadata": {},
   "source": [
    "Q1. Write a query to find all departments that have more than 3 employees and a total salary greater than 100,000"
   ]
  },
  {
   "cell_type": "code",
   "execution_count": 5,
   "id": "22073122",
   "metadata": {},
   "outputs": [
    {
     "name": "stdout",
     "output_type": "stream",
     "text": [
      "   DEPARTMENT_ID DEPARTMENT_NAME  employee_count  total_salary\n",
      "0             50        Shipping              33      121700.0\n",
      "1             80           Sales              47      324200.0\n"
     ]
    },
    {
     "name": "stderr",
     "output_type": "stream",
     "text": [
      "C:\\Users\\DELL\\AppData\\Local\\Temp\\ipykernel_13316\\974233347.py:18: UserWarning: pandas only supports SQLAlchemy connectable (engine/connection) or database string URI or sqlite3 DBAPI2 connection. Other DBAPI2 objects are not tested. Please consider using SQLAlchemy.\n",
      "  data = pd.read_sql(query,connection)\n"
     ]
    }
   ],
   "source": [
    "query = \"\"\"\n",
    "SELECT \n",
    "    d.DEPARTMENT_ID,\n",
    "    d.DEPARTMENT_NAME,\n",
    "    COUNT(e.EMPLOYEE_ID) AS employee_count,\n",
    "    SUM(e.SALARY) AS total_salary\n",
    "FROM \n",
    "    departments d\n",
    "JOIN \n",
    "    employees e\n",
    "ON \n",
    "    d.DEPARTMENT_ID = e.DEPARTMENT_ID\n",
    "GROUP BY \n",
    "    d.DEPARTMENT_ID, d.DEPARTMENT_NAME\n",
    "HAVING \n",
    "    COUNT(e.EMPLOYEE_ID) > 3\n",
    "    AND SUM(e.SALARY) > 100000;\n",
    "\"\"\"\n",
    "data = pd.read_sql(query,connection)\n",
    "print(data)"
   ]
  },
  {
   "cell_type": "markdown",
   "id": "8ad252be",
   "metadata": {},
   "source": [
    "Q2. Retrieve the details of employees whose FIRST_NAME starts with the letter \"J\" and ends with \"n\", and their salary is greater than 5000"
   ]
  },
  {
   "cell_type": "code",
   "execution_count": 7,
   "id": "702505ce",
   "metadata": {},
   "outputs": [
    {
     "name": "stderr",
     "output_type": "stream",
     "text": [
      "C:\\Users\\DELL\\AppData\\Local\\Temp\\ipykernel_13316\\2130034300.py:6: UserWarning: pandas only supports SQLAlchemy connectable (engine/connection) or database string URI or sqlite3 DBAPI2 connection. Other DBAPI2 objects are not tested. Please consider using SQLAlchemy.\n",
      "  data = pd.read_sql(query,connection)\n"
     ]
    },
    {
     "data": {
      "text/html": [
       "<div>\n",
       "<style scoped>\n",
       "    .dataframe tbody tr th:only-of-type {\n",
       "        vertical-align: middle;\n",
       "    }\n",
       "\n",
       "    .dataframe tbody tr th {\n",
       "        vertical-align: top;\n",
       "    }\n",
       "\n",
       "    .dataframe thead th {\n",
       "        text-align: right;\n",
       "    }\n",
       "</style>\n",
       "<table border=\"1\" class=\"dataframe\">\n",
       "  <thead>\n",
       "    <tr style=\"text-align: right;\">\n",
       "      <th></th>\n",
       "      <th>EMPLOYEE_ID</th>\n",
       "      <th>FIRST_NAME</th>\n",
       "      <th>LAST_NAME</th>\n",
       "      <th>EMAIL</th>\n",
       "      <th>PHONE_NUMBER</th>\n",
       "      <th>HIRE_DATE</th>\n",
       "      <th>JOB_ID</th>\n",
       "      <th>SALARY</th>\n",
       "      <th>COMMISSION_PCT</th>\n",
       "      <th>MANAGER_ID</th>\n",
       "      <th>DEPARTMENT_ID</th>\n",
       "    </tr>\n",
       "  </thead>\n",
       "  <tbody>\n",
       "    <tr>\n",
       "      <th>0</th>\n",
       "      <td>110</td>\n",
       "      <td>John</td>\n",
       "      <td>Chen</td>\n",
       "      <td>JCHEN</td>\n",
       "      <td>515.124.4269</td>\n",
       "      <td>2005-09-28</td>\n",
       "      <td>FI_ACCOUNT</td>\n",
       "      <td>8200.0</td>\n",
       "      <td>NaN</td>\n",
       "      <td>108</td>\n",
       "      <td>100</td>\n",
       "    </tr>\n",
       "    <tr>\n",
       "      <th>1</th>\n",
       "      <td>145</td>\n",
       "      <td>John</td>\n",
       "      <td>Russell</td>\n",
       "      <td>JRUSSEL</td>\n",
       "      <td>011.44.1344.429268</td>\n",
       "      <td>2004-10-01</td>\n",
       "      <td>SA_REP</td>\n",
       "      <td>14000.0</td>\n",
       "      <td>0.4</td>\n",
       "      <td>100</td>\n",
       "      <td>80</td>\n",
       "    </tr>\n",
       "    <tr>\n",
       "      <th>2</th>\n",
       "      <td>176</td>\n",
       "      <td>Jonathon</td>\n",
       "      <td>Taylor</td>\n",
       "      <td>JTAYLOR</td>\n",
       "      <td>011.44.1343.929288</td>\n",
       "      <td>2006-06-24</td>\n",
       "      <td>SA_REP</td>\n",
       "      <td>8600.0</td>\n",
       "      <td>0.2</td>\n",
       "      <td>100</td>\n",
       "      <td>80</td>\n",
       "    </tr>\n",
       "  </tbody>\n",
       "</table>\n",
       "</div>"
      ],
      "text/plain": [
       "   EMPLOYEE_ID FIRST_NAME LAST_NAME    EMAIL        PHONE_NUMBER   HIRE_DATE  \\\n",
       "0          110       John      Chen    JCHEN        515.124.4269  2005-09-28   \n",
       "1          145       John   Russell  JRUSSEL  011.44.1344.429268  2004-10-01   \n",
       "2          176   Jonathon    Taylor  JTAYLOR  011.44.1343.929288  2006-06-24   \n",
       "\n",
       "       JOB_ID   SALARY  COMMISSION_PCT  MANAGER_ID  DEPARTMENT_ID  \n",
       "0  FI_ACCOUNT   8200.0             NaN         108            100  \n",
       "1      SA_REP  14000.0             0.4         100             80  \n",
       "2      SA_REP   8600.0             0.2         100             80  "
      ]
     },
     "execution_count": 7,
     "metadata": {},
     "output_type": "execute_result"
    }
   ],
   "source": [
    "query = \"\"\"\n",
    "SELECT * \n",
    "FROM employees \n",
    "WHERE first_name LIKE \"j%n\" \n",
    "AND salary > 5000;\n",
    "\"\"\"\n",
    "data = pd.read_sql(query,connection)\n",
    "data"
   ]
  },
  {
   "cell_type": "markdown",
   "id": "6c0c294e",
   "metadata": {},
   "source": [
    "Q3. Find the average salary of employees who were hired before 2015-01-01. Exclude employees with a commission percentage (COMMISSION_PCT) greater than 0.20."
   ]
  },
  {
   "cell_type": "code",
   "execution_count": 9,
   "id": "e54a6db6",
   "metadata": {},
   "outputs": [
    {
     "name": "stderr",
     "output_type": "stream",
     "text": [
      "C:\\Users\\DELL\\AppData\\Local\\Temp\\ipykernel_13316\\2465034685.py:7: UserWarning: pandas only supports SQLAlchemy connectable (engine/connection) or database string URI or sqlite3 DBAPI2 connection. Other DBAPI2 objects are not tested. Please consider using SQLAlchemy.\n",
      "  data = pd.read_sql(query,connection)\n"
     ]
    },
    {
     "data": {
      "text/html": [
       "<div>\n",
       "<style scoped>\n",
       "    .dataframe tbody tr th:only-of-type {\n",
       "        vertical-align: middle;\n",
       "    }\n",
       "\n",
       "    .dataframe tbody tr th {\n",
       "        vertical-align: top;\n",
       "    }\n",
       "\n",
       "    .dataframe thead th {\n",
       "        text-align: right;\n",
       "    }\n",
       "</style>\n",
       "<table border=\"1\" class=\"dataframe\">\n",
       "  <thead>\n",
       "    <tr style=\"text-align: right;\">\n",
       "      <th></th>\n",
       "      <th>avg_salary</th>\n",
       "    </tr>\n",
       "  </thead>\n",
       "  <tbody>\n",
       "    <tr>\n",
       "      <th>0</th>\n",
       "      <td>5666.758621</td>\n",
       "    </tr>\n",
       "  </tbody>\n",
       "</table>\n",
       "</div>"
      ],
      "text/plain": [
       "    avg_salary\n",
       "0  5666.758621"
      ]
     },
     "execution_count": 9,
     "metadata": {},
     "output_type": "execute_result"
    }
   ],
   "source": [
    "query = \"\"\"\n",
    "SELECT AVG(SALARY) AS avg_salary\n",
    "FROM employees\n",
    "WHERE HIRE_DATE < '2015-01-01'\n",
    "AND (COMMISSION_PCT <= 0.20 OR COMMISSION_PCT IS NULL);\n",
    "\"\"\"\n",
    "data = pd.read_sql(query,connection)\n",
    "data"
   ]
  },
  {
   "cell_type": "markdown",
   "id": "f989b2be",
   "metadata": {},
   "source": [
    "Q4. List the cities from the locations table where the city name: Contains the letter \"a\" exactly twice.\n",
    "Ends with the letter \"n\"."
   ]
  },
  {
   "cell_type": "code",
   "execution_count": 11,
   "id": "38f0cde5",
   "metadata": {},
   "outputs": [
    {
     "name": "stderr",
     "output_type": "stream",
     "text": [
      "C:\\Users\\DELL\\AppData\\Local\\Temp\\ipykernel_13316\\1516950322.py:6: UserWarning: pandas only supports SQLAlchemy connectable (engine/connection) or database string URI or sqlite3 DBAPI2 connection. Other DBAPI2 objects are not tested. Please consider using SQLAlchemy.\n",
      "  data = pd.read_sql(query,connection)\n"
     ]
    },
    {
     "data": {
      "text/html": [
       "<div>\n",
       "<style scoped>\n",
       "    .dataframe tbody tr th:only-of-type {\n",
       "        vertical-align: middle;\n",
       "    }\n",
       "\n",
       "    .dataframe tbody tr th {\n",
       "        vertical-align: top;\n",
       "    }\n",
       "\n",
       "    .dataframe thead th {\n",
       "        text-align: right;\n",
       "    }\n",
       "</style>\n",
       "<table border=\"1\" class=\"dataframe\">\n",
       "  <thead>\n",
       "    <tr style=\"text-align: right;\">\n",
       "      <th></th>\n",
       "      <th>CITY</th>\n",
       "    </tr>\n",
       "  </thead>\n",
       "  <tbody>\n",
       "  </tbody>\n",
       "</table>\n",
       "</div>"
      ],
      "text/plain": [
       "Empty DataFrame\n",
       "Columns: [CITY]\n",
       "Index: []"
      ]
     },
     "execution_count": 11,
     "metadata": {},
     "output_type": "execute_result"
    }
   ],
   "source": [
    "query = \"\"\"\n",
    "SELECT CITY\n",
    "FROM locations\n",
    "WHERE CITY LIKE '%a%a%n';\n",
    "\"\"\"\n",
    "data = pd.read_sql(query,connection)\n",
    "data"
   ]
  },
  {
   "cell_type": "markdown",
   "id": "d7bfb36e",
   "metadata": {},
   "source": [
    "Q5. Find countries (COUNTRY_NAME) that have more than 2 locations and whose REGION_ID is less than 5."
   ]
  },
  {
   "cell_type": "code",
   "execution_count": 12,
   "id": "125b1a6c",
   "metadata": {},
   "outputs": [
    {
     "name": "stderr",
     "output_type": "stream",
     "text": [
      "C:\\Users\\DELL\\AppData\\Local\\Temp\\ipykernel_13316\\4219381470.py:9: UserWarning: pandas only supports SQLAlchemy connectable (engine/connection) or database string URI or sqlite3 DBAPI2 connection. Other DBAPI2 objects are not tested. Please consider using SQLAlchemy.\n",
      "  data = pd.read_sql(query,connection)\n"
     ]
    },
    {
     "data": {
      "text/html": [
       "<div>\n",
       "<style scoped>\n",
       "    .dataframe tbody tr th:only-of-type {\n",
       "        vertical-align: middle;\n",
       "    }\n",
       "\n",
       "    .dataframe tbody tr th {\n",
       "        vertical-align: top;\n",
       "    }\n",
       "\n",
       "    .dataframe thead th {\n",
       "        text-align: right;\n",
       "    }\n",
       "</style>\n",
       "<table border=\"1\" class=\"dataframe\">\n",
       "  <thead>\n",
       "    <tr style=\"text-align: right;\">\n",
       "      <th></th>\n",
       "      <th>COUNTRY_NAME</th>\n",
       "      <th>location_count</th>\n",
       "    </tr>\n",
       "  </thead>\n",
       "  <tbody>\n",
       "    <tr>\n",
       "      <th>0</th>\n",
       "      <td>United States of America</td>\n",
       "      <td>4</td>\n",
       "    </tr>\n",
       "    <tr>\n",
       "      <th>1</th>\n",
       "      <td>United Kingdom</td>\n",
       "      <td>3</td>\n",
       "    </tr>\n",
       "  </tbody>\n",
       "</table>\n",
       "</div>"
      ],
      "text/plain": [
       "               COUNTRY_NAME  location_count\n",
       "0  United States of America               4\n",
       "1            United Kingdom               3"
      ]
     },
     "execution_count": 12,
     "metadata": {},
     "output_type": "execute_result"
    }
   ],
   "source": [
    "query = \"\"\"\n",
    "SELECT c.COUNTRY_NAME, COUNT(l.LOCATION_ID) AS location_count\n",
    "FROM countries c\n",
    "JOIN locations l ON c.COUNTRY_ID = l.COUNTRY_ID\n",
    "GROUP BY c.COUNTRY_NAME\n",
    "HAVING COUNT(l.LOCATION_ID) > 2\n",
    "   AND MIN(c.REGION_ID) < 5;\n",
    "\"\"\"\n",
    "data = pd.read_sql(query,connection)\n",
    "data"
   ]
  },
  {
   "cell_type": "markdown",
   "id": "a0471161",
   "metadata": {},
   "source": [
    "Q6.The department's LOCATION_ID is in city names starting with \"S\". The total salary of all employees in the department is less than 200,000."
   ]
  },
  {
   "cell_type": "code",
   "execution_count": 13,
   "id": "cfd75142",
   "metadata": {},
   "outputs": [
    {
     "name": "stderr",
     "output_type": "stream",
     "text": [
      "C:\\Users\\DELL\\AppData\\Local\\Temp\\ipykernel_13316\\3617715853.py:10: UserWarning: pandas only supports SQLAlchemy connectable (engine/connection) or database string URI or sqlite3 DBAPI2 connection. Other DBAPI2 objects are not tested. Please consider using SQLAlchemy.\n",
      "  data = pd.read_sql(query,connection)\n"
     ]
    },
    {
     "data": {
      "text/html": [
       "<div>\n",
       "<style scoped>\n",
       "    .dataframe tbody tr th:only-of-type {\n",
       "        vertical-align: middle;\n",
       "    }\n",
       "\n",
       "    .dataframe tbody tr th {\n",
       "        vertical-align: top;\n",
       "    }\n",
       "\n",
       "    .dataframe thead th {\n",
       "        text-align: right;\n",
       "    }\n",
       "</style>\n",
       "<table border=\"1\" class=\"dataframe\">\n",
       "  <thead>\n",
       "    <tr style=\"text-align: right;\">\n",
       "      <th></th>\n",
       "      <th>DEPARTMENT_ID</th>\n",
       "      <th>DEPARTMENT_NAME</th>\n",
       "      <th>total_salary</th>\n",
       "    </tr>\n",
       "  </thead>\n",
       "  <tbody>\n",
       "    <tr>\n",
       "      <th>0</th>\n",
       "      <td>60</td>\n",
       "      <td>IT</td>\n",
       "      <td>28800.0</td>\n",
       "    </tr>\n",
       "    <tr>\n",
       "      <th>1</th>\n",
       "      <td>50</td>\n",
       "      <td>Shipping</td>\n",
       "      <td>121700.0</td>\n",
       "    </tr>\n",
       "    <tr>\n",
       "      <th>2</th>\n",
       "      <td>110</td>\n",
       "      <td>Accounting</td>\n",
       "      <td>20300.0</td>\n",
       "    </tr>\n",
       "    <tr>\n",
       "      <th>3</th>\n",
       "      <td>10</td>\n",
       "      <td>Administration</td>\n",
       "      <td>4400.0</td>\n",
       "    </tr>\n",
       "    <tr>\n",
       "      <th>4</th>\n",
       "      <td>30</td>\n",
       "      <td>Purchasing</td>\n",
       "      <td>24900.0</td>\n",
       "    </tr>\n",
       "    <tr>\n",
       "      <th>5</th>\n",
       "      <td>100</td>\n",
       "      <td>Finance</td>\n",
       "      <td>51608.0</td>\n",
       "    </tr>\n",
       "    <tr>\n",
       "      <th>6</th>\n",
       "      <td>90</td>\n",
       "      <td>Executive</td>\n",
       "      <td>58000.0</td>\n",
       "    </tr>\n",
       "  </tbody>\n",
       "</table>\n",
       "</div>"
      ],
      "text/plain": [
       "   DEPARTMENT_ID DEPARTMENT_NAME  total_salary\n",
       "0             60              IT       28800.0\n",
       "1             50        Shipping      121700.0\n",
       "2            110      Accounting       20300.0\n",
       "3             10  Administration        4400.0\n",
       "4             30      Purchasing       24900.0\n",
       "5            100         Finance       51608.0\n",
       "6             90       Executive       58000.0"
      ]
     },
     "execution_count": 13,
     "metadata": {},
     "output_type": "execute_result"
    }
   ],
   "source": [
    "query = \"\"\"\n",
    "SELECT d.DEPARTMENT_ID, d.DEPARTMENT_NAME, SUM(e.SALARY) AS total_salary\n",
    "FROM departments d\n",
    "JOIN employees e \n",
    "ON d.DEPARTMENT_ID = e.DEPARTMENT_ID\n",
    "JOIN locations l \n",
    "ON d.LOCATION_ID = l.LOCATION_ID\n",
    "WHERE l.CITY LIKE 'S%'\n",
    "GROUP BY d.DEPARTMENT_ID, d.DEPARTMENT_NAME\n",
    "HAVING SUM(e.SALARY) < 200000;\n",
    "\"\"\"\n",
    "data = pd.read_sql(query,connection)\n",
    "data"
   ]
  },
  {
   "cell_type": "markdown",
   "id": "a1364377",
   "metadata": {},
   "source": [
    "Q7. Retrieve a list of all employees whose: LAST_NAME is exactly \"Smith\".SALARY is higher than the average salary of employees in their department."
   ]
  },
  {
   "cell_type": "code",
   "execution_count": 14,
   "id": "d5a5150d",
   "metadata": {},
   "outputs": [
    {
     "name": "stderr",
     "output_type": "stream",
     "text": [
      "C:\\Users\\DELL\\AppData\\Local\\Temp\\ipykernel_13316\\2877935151.py:9: UserWarning: pandas only supports SQLAlchemy connectable (engine/connection) or database string URI or sqlite3 DBAPI2 connection. Other DBAPI2 objects are not tested. Please consider using SQLAlchemy.\n",
      "  data = pd.read_sql(query,connection)\n"
     ]
    },
    {
     "data": {
      "text/html": [
       "<div>\n",
       "<style scoped>\n",
       "    .dataframe tbody tr th:only-of-type {\n",
       "        vertical-align: middle;\n",
       "    }\n",
       "\n",
       "    .dataframe tbody tr th {\n",
       "        vertical-align: top;\n",
       "    }\n",
       "\n",
       "    .dataframe thead th {\n",
       "        text-align: right;\n",
       "    }\n",
       "</style>\n",
       "<table border=\"1\" class=\"dataframe\">\n",
       "  <thead>\n",
       "    <tr style=\"text-align: right;\">\n",
       "      <th></th>\n",
       "      <th>EMPLOYEE_ID</th>\n",
       "      <th>FIRST_NAME</th>\n",
       "      <th>LAST_NAME</th>\n",
       "      <th>SALARY</th>\n",
       "    </tr>\n",
       "  </thead>\n",
       "  <tbody>\n",
       "    <tr>\n",
       "      <th>0</th>\n",
       "      <td>159</td>\n",
       "      <td>Lindsey</td>\n",
       "      <td>Smith</td>\n",
       "      <td>8000.0</td>\n",
       "    </tr>\n",
       "    <tr>\n",
       "      <th>1</th>\n",
       "      <td>171</td>\n",
       "      <td>William</td>\n",
       "      <td>Smith</td>\n",
       "      <td>7400.0</td>\n",
       "    </tr>\n",
       "  </tbody>\n",
       "</table>\n",
       "</div>"
      ],
      "text/plain": [
       "   EMPLOYEE_ID FIRST_NAME LAST_NAME  SALARY\n",
       "0          159    Lindsey     Smith  8000.0\n",
       "1          171    William     Smith  7400.0"
      ]
     },
     "execution_count": 14,
     "metadata": {},
     "output_type": "execute_result"
    }
   ],
   "source": [
    "query = \"\"\"\n",
    "SELECT e.EMPLOYEE_ID, e.FIRST_NAME, e.LAST_NAME, e.SALARY\n",
    "FROM employees e\n",
    "JOIN (SELECT DEPARTMENT_ID, AVG(SALARY) AS avg_salary FROM employees GROUP BY DEPARTMENT_ID) \n",
    "avg_dept ON e.DEPARTMENT_ID = avg_dept.DEPARTMENT_ID\n",
    "WHERE e.LAST_NAME = 'Smith' AND e.SALARY > avg_dept.avg_salary;\n",
    "\n",
    "\"\"\"\n",
    "data = pd.read_sql(query,connection)\n",
    "data"
   ]
  },
  {
   "cell_type": "markdown",
   "id": "91ca4b27",
   "metadata": {},
   "source": [
    "Q8. Manage more than 5 employees.Have an average employee salary in their department of less than 50,000."
   ]
  },
  {
   "cell_type": "code",
   "execution_count": 15,
   "id": "bda219bc",
   "metadata": {},
   "outputs": [
    {
     "name": "stderr",
     "output_type": "stream",
     "text": [
      "C:\\Users\\DELL\\AppData\\Local\\Temp\\ipykernel_13316\\2046025427.py:8: UserWarning: pandas only supports SQLAlchemy connectable (engine/connection) or database string URI or sqlite3 DBAPI2 connection. Other DBAPI2 objects are not tested. Please consider using SQLAlchemy.\n",
      "  data =pd.read_sql(query, connection)\n"
     ]
    },
    {
     "data": {
      "text/html": [
       "<div>\n",
       "<style scoped>\n",
       "    .dataframe tbody tr th:only-of-type {\n",
       "        vertical-align: middle;\n",
       "    }\n",
       "\n",
       "    .dataframe tbody tr th {\n",
       "        vertical-align: top;\n",
       "    }\n",
       "\n",
       "    .dataframe thead th {\n",
       "        text-align: right;\n",
       "    }\n",
       "</style>\n",
       "<table border=\"1\" class=\"dataframe\">\n",
       "  <thead>\n",
       "    <tr style=\"text-align: right;\">\n",
       "      <th></th>\n",
       "      <th>EMPLOYEE_ID</th>\n",
       "      <th>FIRST_NAME</th>\n",
       "      <th>LAST_NAME</th>\n",
       "      <th>SALARY</th>\n",
       "    </tr>\n",
       "  </thead>\n",
       "  <tbody>\n",
       "    <tr>\n",
       "      <th>0</th>\n",
       "      <td>100</td>\n",
       "      <td>Steven</td>\n",
       "      <td>King</td>\n",
       "      <td>24000.0</td>\n",
       "    </tr>\n",
       "  </tbody>\n",
       "</table>\n",
       "</div>"
      ],
      "text/plain": [
       "   EMPLOYEE_ID FIRST_NAME LAST_NAME   SALARY\n",
       "0          100     Steven      King  24000.0"
      ]
     },
     "execution_count": 15,
     "metadata": {},
     "output_type": "execute_result"
    }
   ],
   "source": [
    "query = \"\"\"\n",
    "SELECT EMPLOYEE_ID, FIRST_NAME, LAST_NAME, SALARY\n",
    "FROM employees\n",
    "WHERE MANAGER_ID IS NULL\n",
    "  AND SALARY > (SELECT AVG(SALARY) FROM employees);\n",
    "\n",
    "\"\"\"\n",
    "data =pd.read_sql(query, connection)\n",
    "data"
   ]
  },
  {
   "cell_type": "markdown",
   "id": "beeec611",
   "metadata": {},
   "source": [
    "# Loops for and while"
   ]
  },
  {
   "cell_type": "code",
   "execution_count": 18,
   "id": "4aa4ef2e",
   "metadata": {},
   "outputs": [
    {
     "name": "stdout",
     "output_type": "stream",
     "text": [
      "1\n",
      "2\n",
      "3\n",
      "4\n",
      "5\n",
      "6\n",
      "7\n",
      "8\n",
      "9\n",
      "10\n"
     ]
    }
   ],
   "source": [
    "# Q1. Write a while loop that prints the numbers from 1 to 10.\n",
    "\n",
    "i = 1\n",
    "while i <= 10:\n",
    "    print(i)\n",
    "    i += 1"
   ]
  },
  {
   "cell_type": "code",
   "execution_count": 19,
   "id": "b380342f",
   "metadata": {},
   "outputs": [
    {
     "name": "stdout",
     "output_type": "stream",
     "text": [
      "The sum is: 5050\n"
     ]
    }
   ],
   "source": [
    "# Q2. Write a while loop that calculates the sum of numbers from 1 to 100.\n",
    "\n",
    "i = 1\n",
    "total_sum = 0\n",
    "while i <= 100:\n",
    "    total_sum += i\n",
    "    i += 1\n",
    "print(\"The sum is:\", total_sum)\n"
   ]
  },
  {
   "cell_type": "code",
   "execution_count": 26,
   "id": "aba5c335",
   "metadata": {},
   "outputs": [
    {
     "name": "stdout",
     "output_type": "stream",
     "text": [
      "1\n",
      "4\n",
      "9\n",
      "16\n",
      "25\n"
     ]
    }
   ],
   "source": [
    "# Q3. Write a for loop that prints the squares of numbers from 1 to 5.\n",
    "for i in range(1,6):\n",
    "    r = i**2\n",
    "    print(r)"
   ]
  },
  {
   "cell_type": "code",
   "execution_count": 27,
   "id": "a15ecb5f",
   "metadata": {},
   "outputs": [
    {
     "name": "stdout",
     "output_type": "stream",
     "text": [
      "(0, 0) (0, 1) (0, 2) \n",
      "(1, 0) (1, 1) (1, 2) \n",
      "(2, 0) (2, 1) (2, 2) \n"
     ]
    }
   ],
   "source": [
    "# Q4. Write a nested for loop that prints a 3x3 matrix (a list of lists).\n",
    "for i in range(3):\n",
    "    for j in range(3):\n",
    "        print(f'({i}, {j})', end=\" \")\n",
    "    print()"
   ]
  },
  {
   "cell_type": "code",
   "execution_count": 28,
   "id": "08144ea3",
   "metadata": {},
   "outputs": [
    {
     "name": "stdout",
     "output_type": "stream",
     "text": [
      "ALICE\n",
      "BOB\n",
      "CHARLIE\n"
     ]
    }
   ],
   "source": [
    "# Q5. Write a for loop that iterates over a list of names and prints each name in uppercase.\n",
    "names = ['Alice', 'Bob', 'Charlie']\n",
    "for name in names:\n",
    "    print(name.upper())"
   ]
  },
  {
   "cell_type": "code",
   "execution_count": null,
   "id": "73ae1d25",
   "metadata": {},
   "outputs": [],
   "source": []
  }
 ],
 "metadata": {
  "hide_input": false,
  "kernelspec": {
   "display_name": "Python 3 (ipykernel)",
   "language": "python",
   "name": "python3"
  },
  "language_info": {
   "codemirror_mode": {
    "name": "ipython",
    "version": 3
   },
   "file_extension": ".py",
   "mimetype": "text/x-python",
   "name": "python",
   "nbconvert_exporter": "python",
   "pygments_lexer": "ipython3",
   "version": "3.11.5"
  }
 },
 "nbformat": 4,
 "nbformat_minor": 5
}
