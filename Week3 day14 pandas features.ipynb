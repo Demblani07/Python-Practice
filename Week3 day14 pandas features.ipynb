{
 "cells": [
  {
   "cell_type": "code",
   "execution_count": 1,
   "id": "a154527a",
   "metadata": {},
   "outputs": [],
   "source": [
    "import pandas as pd\n",
    "import numpy as np"
   ]
  },
  {
   "cell_type": "code",
   "execution_count": 9,
   "id": "351a5df9",
   "metadata": {},
   "outputs": [
    {
     "name": "stdout",
     "output_type": "stream",
     "text": [
      "Original DataFrame:\n",
      "   id     name  Age  Product   Purchased       City  Sale_Amount\n",
      "0   1   Olivia   20      101       Watch     Mumbai        10000\n",
      "1   2   Aditya   25        0         N/A      Delhi       150000\n",
      "2   3     Cory   15      106         Oil  Bangalore         2000\n",
      "3   4  Isabell   10        0         N/A    Chennai        30000\n",
      "4   5  Dominic   30      103       Shoes    Chennai        15000\n",
      "5   6    Tyler   65      104  Smartphone      Delhi        16000\n",
      "6   7   Samuel   35        0         N/A    Kolkata        15000\n",
      "7   8   Daniel   18        0         N/A      Delhi        25000\n",
      "8   9   Jeremy   23      107      Laptop     Mumbai        48000\n",
      "\n",
      "Sorted DataFrame:\n",
      "   id     name  Age  Product   Purchased       City  Sale_Amount\n",
      "1   2   Aditya   25        0         N/A      Delhi       150000\n",
      "2   3     Cory   15      106         Oil  Bangalore         2000\n",
      "7   8   Daniel   18        0         N/A      Delhi        25000\n",
      "4   5  Dominic   30      103       Shoes    Chennai        15000\n",
      "3   4  Isabell   10        0         N/A    Chennai        30000\n",
      "8   9   Jeremy   23      107      Laptop     Mumbai        48000\n",
      "0   1   Olivia   20      101       Watch     Mumbai        10000\n",
      "6   7   Samuel   35        0         N/A    Kolkata        15000\n",
      "5   6    Tyler   65      104  Smartphone      Delhi        16000\n"
     ]
    }
   ],
   "source": [
    "\"\"\"\n",
    "Q1. How do you sort a DataFrame by multiple columns in ascending order for\n",
    "one column and descending order for another? Provide an example.\n",
    "\"\"\"\n",
    "df = pd.DataFrame({\"id\":[1,2,3,4,5,6,7,8,9],\"name\":['Olivia', 'Aditya', 'Cory', 'Isabell', 'Dominic', 'Tyler', 'Samuel', 'Daniel', 'Jeremy'],\n",
    "                  \"Age\":[20, 25, 15, 10, 30, 65, 35, 18, 23],\n",
    "                  \"Product\":[101,0, 106, 0, 103, 104,0 ,0 , 107],\n",
    "                  \"Purchased\":['Watch','N/A', 'Oil', 'N/A', 'Shoes', 'Smartphone','N/A' ,'N/A' , 'Laptop'],\n",
    "                  \"City\":['Mumbai', 'Delhi', 'Bangalore', 'Chennai', 'Chennai', 'Delhi', 'Kolkata', 'Delhi', 'Mumbai'],\n",
    "                  \"Sale_Amount\":[10000,150000,2000,30000,15000,16000,15000,25000,48000]})\n",
    "df\n",
    "\n",
    "sorted_df = df.sort_values(by=['name', 'Purchased'], ascending=[True, False])\n",
    "\n",
    "print(\"Original DataFrame:\")\n",
    "print(df)\n",
    "print(\"\\nSorted DataFrame:\")\n",
    "print(sorted_df)"
   ]
  },
  {
   "cell_type": "code",
   "execution_count": 10,
   "id": "f6c58562",
   "metadata": {},
   "outputs": [
    {
     "name": "stdout",
     "output_type": "stream",
     "text": [
      "Filtered DataFrame:\n"
     ]
    },
    {
     "data": {
      "text/html": [
       "<div>\n",
       "<style scoped>\n",
       "    .dataframe tbody tr th:only-of-type {\n",
       "        vertical-align: middle;\n",
       "    }\n",
       "\n",
       "    .dataframe tbody tr th {\n",
       "        vertical-align: top;\n",
       "    }\n",
       "\n",
       "    .dataframe thead th {\n",
       "        text-align: right;\n",
       "    }\n",
       "</style>\n",
       "<table border=\"1\" class=\"dataframe\">\n",
       "  <thead>\n",
       "    <tr style=\"text-align: right;\">\n",
       "      <th></th>\n",
       "      <th>id</th>\n",
       "      <th>name</th>\n",
       "      <th>Age</th>\n",
       "      <th>Product</th>\n",
       "      <th>Purchased</th>\n",
       "      <th>City</th>\n",
       "      <th>Sale_Amount</th>\n",
       "    </tr>\n",
       "  </thead>\n",
       "  <tbody>\n",
       "    <tr>\n",
       "      <th>6</th>\n",
       "      <td>7</td>\n",
       "      <td>Samuel</td>\n",
       "      <td>35</td>\n",
       "      <td>0</td>\n",
       "      <td>N/A</td>\n",
       "      <td>Kolkata</td>\n",
       "      <td>15000</td>\n",
       "    </tr>\n",
       "  </tbody>\n",
       "</table>\n",
       "</div>"
      ],
      "text/plain": [
       "   id    name  Age  Product Purchased     City  Sale_Amount\n",
       "6   7  Samuel   35        0       N/A  Kolkata        15000"
      ]
     },
     "execution_count": 10,
     "metadata": {},
     "output_type": "execute_result"
    }
   ],
   "source": [
    "#Q2. Given a DataFrame, how would you filter rows where the values in the 'Age' column are greater than 30 and less than 50?\n",
    "filtered_df = df[(df['Age'] > 30) & (df['Age'] < 50)]\n",
    "\n",
    "print(\"Filtered DataFrame:\")\n",
    "filtered_df"
   ]
  },
  {
   "cell_type": "code",
   "execution_count": 11,
   "id": "34d2626e",
   "metadata": {},
   "outputs": [
    {
     "data": {
      "text/html": [
       "<div>\n",
       "<style scoped>\n",
       "    .dataframe tbody tr th:only-of-type {\n",
       "        vertical-align: middle;\n",
       "    }\n",
       "\n",
       "    .dataframe tbody tr th {\n",
       "        vertical-align: top;\n",
       "    }\n",
       "\n",
       "    .dataframe thead th {\n",
       "        text-align: right;\n",
       "    }\n",
       "</style>\n",
       "<table border=\"1\" class=\"dataframe\">\n",
       "  <thead>\n",
       "    <tr style=\"text-align: right;\">\n",
       "      <th></th>\n",
       "      <th>name</th>\n",
       "      <th>Age</th>\n",
       "    </tr>\n",
       "  </thead>\n",
       "  <tbody>\n",
       "    <tr>\n",
       "      <th>0</th>\n",
       "      <td>Olivia</td>\n",
       "      <td>20</td>\n",
       "    </tr>\n",
       "    <tr>\n",
       "      <th>1</th>\n",
       "      <td>Aditya</td>\n",
       "      <td>25</td>\n",
       "    </tr>\n",
       "    <tr>\n",
       "      <th>2</th>\n",
       "      <td>Cory</td>\n",
       "      <td>15</td>\n",
       "    </tr>\n",
       "    <tr>\n",
       "      <th>3</th>\n",
       "      <td>Isabell</td>\n",
       "      <td>10</td>\n",
       "    </tr>\n",
       "    <tr>\n",
       "      <th>4</th>\n",
       "      <td>Dominic</td>\n",
       "      <td>30</td>\n",
       "    </tr>\n",
       "  </tbody>\n",
       "</table>\n",
       "</div>"
      ],
      "text/plain": [
       "      name  Age\n",
       "0   Olivia   20\n",
       "1   Aditya   25\n",
       "2     Cory   15\n",
       "3  Isabell   10\n",
       "4  Dominic   30"
      ]
     },
     "execution_count": 11,
     "metadata": {},
     "output_type": "execute_result"
    }
   ],
   "source": [
    "# Q3.How would you slice the first 5 rows and select only the 'Name' and 'Age' columns from a DataFrame?\n",
    "result = df[['name', 'Age']].head()\n",
    "result"
   ]
  },
  {
   "cell_type": "code",
   "execution_count": 12,
   "id": "0ef9f5df",
   "metadata": {},
   "outputs": [
    {
     "data": {
      "text/plain": [
       "Purchased\n",
       "Laptop        48000.0\n",
       "N/A           55000.0\n",
       "Oil            2000.0\n",
       "Shoes         15000.0\n",
       "Smartphone    16000.0\n",
       "Watch         10000.0\n",
       "Name: Sale_Amount, dtype: float64"
      ]
     },
     "execution_count": 12,
     "metadata": {},
     "output_type": "execute_result"
    }
   ],
   "source": [
    "# Q4. Write a code snippet to group a DataFrame by the 'Purchased'column and calculate the mean Sale_Amount for each Purchased.\n",
    "\n",
    "df_mean = df.groupby('Purchased')['Sale_Amount'].mean()\n",
    "df_mean"
   ]
  },
  {
   "cell_type": "code",
   "execution_count": 13,
   "id": "8d61553e",
   "metadata": {},
   "outputs": [
    {
     "name": "stdout",
     "output_type": "stream",
     "text": [
      "DataFrame 1:\n",
      "   ID     Name\n",
      "0   1    Alice\n",
      "1   2      Bob\n",
      "2   3  Charlie\n",
      "\n",
      "DataFrame 2:\n",
      "   ID  Score\n",
      "0   3     85\n",
      "1   4     90\n",
      "2   5     95\n",
      "\n",
      "Inner Join Result:\n",
      "   ID     Name  Score\n",
      "0   3  Charlie     85\n",
      "\n",
      "Outer Join Result:\n",
      "   ID     Name  Score\n",
      "0   1    Alice    NaN\n",
      "1   2      Bob    NaN\n",
      "2   3  Charlie   85.0\n",
      "3   4      NaN   90.0\n",
      "4   5      NaN   95.0\n"
     ]
    }
   ],
   "source": [
    "# Q5. Explain the difference between merge() with an 'inner' join and 'outer' join. Provide an example using two DataFrames.\n",
    "\n",
    "df1 = pd.DataFrame({\n",
    "    'ID': [1, 2, 3],\n",
    "    'Name': ['Alice', 'Bob', 'Charlie']\n",
    "})\n",
    "\n",
    "df2 = pd.DataFrame({\n",
    "    'ID': [3, 4, 5],\n",
    "    'Score': [85, 90, 95]\n",
    "})\n",
    "\n",
    "# Inner Join\n",
    "inner_join = pd.merge(df1, df2, on='ID', how='inner')\n",
    "\n",
    "# Outer Join\n",
    "outer_join = pd.merge(df1, df2, on='ID', how='outer')\n",
    "\n",
    "print(\"DataFrame 1:\")\n",
    "print(df1)\n",
    "print(\"\\nDataFrame 2:\")\n",
    "print(df2)\n",
    "\n",
    "print(\"\\nInner Join Result:\")\n",
    "print(inner_join)\n",
    "\n",
    "print(\"\\nOuter Join Result:\")\n",
    "print(outer_join)"
   ]
  },
  {
   "cell_type": "code",
   "execution_count": 14,
   "id": "a4c1aa4d",
   "metadata": {},
   "outputs": [
    {
     "name": "stdout",
     "output_type": "stream",
     "text": [
      "DataFrame 1:\n",
      "    Name  Age\n",
      "0  Alice   25\n",
      "1    Bob   30\n",
      "\n",
      "DataFrame 2:\n",
      "      Name  Age\n",
      "0  Charlie   35\n",
      "1    David   40\n",
      "\n",
      "Concatenated DataFrame with Reset Index:\n",
      "      Name  Age\n",
      "0    Alice   25\n",
      "1      Bob   30\n",
      "2  Charlie   35\n",
      "3    David   40\n"
     ]
    }
   ],
   "source": [
    "# Q6.How do you concatenate two DataFrames vertically and reset the index of the resulting DataFrame?\n",
    "\n",
    "df3 = pd.DataFrame({\n",
    "    'Name': ['Alice', 'Bob'],\n",
    "    'Age': [25, 30]\n",
    "})\n",
    "\n",
    "df4 = pd.DataFrame({\n",
    "    'Name': ['Charlie', 'David'],\n",
    "    'Age': [35, 40]\n",
    "})\n",
    "\n",
    "result = pd.concat([df3, df4], axis=0, ignore_index=True)\n",
    "\n",
    "print(\"DataFrame 1:\")\n",
    "print(df3)\n",
    "print(\"\\nDataFrame 2:\")\n",
    "print(df4)\n",
    "print(\"\\nConcatenated DataFrame with Reset Index:\")\n",
    "print(result)\n"
   ]
  },
  {
   "cell_type": "code",
   "execution_count": 15,
   "id": "d4d4ef14",
   "metadata": {},
   "outputs": [
    {
     "name": "stdout",
     "output_type": "stream",
     "text": [
      "Original DataFrame:\n",
      "  Region  Sales  Profit\n",
      "0  North   1000     200\n",
      "1  South   1500     300\n",
      "2  North   2000     250\n",
      "3   East   1200     220\n",
      "4   West   1700     280\n",
      "5  South   1800     330\n",
      "6   East   1100     210\n",
      "\n",
      "Grouped DataFrame with Aggregations:\n",
      "  Region  Total_Sales  Avg_Profit\n",
      "0   East         2300       215.0\n",
      "1  North         3000       225.0\n",
      "2  South         3300       315.0\n",
      "3   West         1700       280.0\n"
     ]
    }
   ],
   "source": [
    "\"\"\"\n",
    "Q7. Write a code snippet to calculate the sum of sales and the average profit for each region in a DataFrame \n",
    "grouped by 'Region'.\n",
    "\"\"\"\n",
    "data = {\n",
    "    'Region': ['North', 'South', 'North', 'East', 'West', 'South', 'East'],\n",
    "    'Sales': [1000, 1500, 2000, 1200, 1700, 1800, 1100],\n",
    "    'Profit': [200, 300, 250, 220, 280, 330, 210]\n",
    "}\n",
    "\n",
    "df = pd.DataFrame(data)\n",
    "\n",
    "result = df.groupby('Region').agg(\n",
    "    Total_Sales=('Sales', 'sum'),\n",
    "    Avg_Profit=('Profit', 'mean')).reset_index()\n",
    "\n",
    "print(\"Original DataFrame:\")\n",
    "print(df)\n",
    "print(\"\\nGrouped DataFrame with Aggregations:\")\n",
    "print(result)"
   ]
  },
  {
   "cell_type": "code",
   "execution_count": null,
   "id": "e22b6acb",
   "metadata": {},
   "outputs": [],
   "source": []
  },
  {
   "cell_type": "code",
   "execution_count": null,
   "id": "fd322284",
   "metadata": {},
   "outputs": [],
   "source": []
  },
  {
   "cell_type": "code",
   "execution_count": null,
   "id": "9df7d585",
   "metadata": {},
   "outputs": [],
   "source": []
  },
  {
   "cell_type": "code",
   "execution_count": null,
   "id": "aecb00c0",
   "metadata": {},
   "outputs": [],
   "source": []
  }
 ],
 "metadata": {
  "hide_input": false,
  "kernelspec": {
   "display_name": "Python 3 (ipykernel)",
   "language": "python",
   "name": "python3"
  },
  "language_info": {
   "codemirror_mode": {
    "name": "ipython",
    "version": 3
   },
   "file_extension": ".py",
   "mimetype": "text/x-python",
   "name": "python",
   "nbconvert_exporter": "python",
   "pygments_lexer": "ipython3",
   "version": "3.11.5"
  }
 },
 "nbformat": 4,
 "nbformat_minor": 5
}
