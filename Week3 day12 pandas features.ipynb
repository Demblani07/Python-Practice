{
 "cells": [
  {
   "cell_type": "code",
   "execution_count": 1,
   "id": "63be6799",
   "metadata": {},
   "outputs": [],
   "source": [
    "# Q1. How do you create a pandas DataFrame from a dictionary where the keys are column names and the values are lists of data?"
   ]
  },
  {
   "cell_type": "code",
   "execution_count": 2,
   "id": "97492b2e",
   "metadata": {},
   "outputs": [],
   "source": [
    "import pandas as pd\n",
    "import numpy as np"
   ]
  },
  {
   "cell_type": "code",
   "execution_count": 60,
   "id": "98a04af6",
   "metadata": {},
   "outputs": [
    {
     "data": {
      "text/html": [
       "<div>\n",
       "<style scoped>\n",
       "    .dataframe tbody tr th:only-of-type {\n",
       "        vertical-align: middle;\n",
       "    }\n",
       "\n",
       "    .dataframe tbody tr th {\n",
       "        vertical-align: top;\n",
       "    }\n",
       "\n",
       "    .dataframe thead th {\n",
       "        text-align: right;\n",
       "    }\n",
       "</style>\n",
       "<table border=\"1\" class=\"dataframe\">\n",
       "  <thead>\n",
       "    <tr style=\"text-align: right;\">\n",
       "      <th></th>\n",
       "      <th>id</th>\n",
       "      <th>name</th>\n",
       "      <th>Age</th>\n",
       "      <th>Product</th>\n",
       "      <th>Purchased</th>\n",
       "      <th>City</th>\n",
       "      <th>Sale_Amount</th>\n",
       "    </tr>\n",
       "  </thead>\n",
       "  <tbody>\n",
       "    <tr>\n",
       "      <th>0</th>\n",
       "      <td>1</td>\n",
       "      <td>Olivia</td>\n",
       "      <td>20</td>\n",
       "      <td>101</td>\n",
       "      <td>Watch</td>\n",
       "      <td>Mumbai</td>\n",
       "      <td>10000</td>\n",
       "    </tr>\n",
       "    <tr>\n",
       "      <th>1</th>\n",
       "      <td>2</td>\n",
       "      <td>Aditya</td>\n",
       "      <td>25</td>\n",
       "      <td>0</td>\n",
       "      <td>N/A</td>\n",
       "      <td>Delhi</td>\n",
       "      <td>150000</td>\n",
       "    </tr>\n",
       "    <tr>\n",
       "      <th>2</th>\n",
       "      <td>3</td>\n",
       "      <td>Cory</td>\n",
       "      <td>15</td>\n",
       "      <td>106</td>\n",
       "      <td>Oil</td>\n",
       "      <td>Bangalore</td>\n",
       "      <td>2000</td>\n",
       "    </tr>\n",
       "    <tr>\n",
       "      <th>3</th>\n",
       "      <td>4</td>\n",
       "      <td>Isabell</td>\n",
       "      <td>10</td>\n",
       "      <td>0</td>\n",
       "      <td>N/A</td>\n",
       "      <td>Chennai</td>\n",
       "      <td>30000</td>\n",
       "    </tr>\n",
       "    <tr>\n",
       "      <th>4</th>\n",
       "      <td>5</td>\n",
       "      <td>Dominic</td>\n",
       "      <td>30</td>\n",
       "      <td>103</td>\n",
       "      <td>Shoes</td>\n",
       "      <td>Chennai</td>\n",
       "      <td>15000</td>\n",
       "    </tr>\n",
       "    <tr>\n",
       "      <th>5</th>\n",
       "      <td>6</td>\n",
       "      <td>Tyler</td>\n",
       "      <td>65</td>\n",
       "      <td>104</td>\n",
       "      <td>Smartphone</td>\n",
       "      <td>Delhi</td>\n",
       "      <td>16000</td>\n",
       "    </tr>\n",
       "    <tr>\n",
       "      <th>6</th>\n",
       "      <td>7</td>\n",
       "      <td>Samuel</td>\n",
       "      <td>35</td>\n",
       "      <td>0</td>\n",
       "      <td>N/A</td>\n",
       "      <td>Kolkata</td>\n",
       "      <td>15000</td>\n",
       "    </tr>\n",
       "    <tr>\n",
       "      <th>7</th>\n",
       "      <td>8</td>\n",
       "      <td>Daniel</td>\n",
       "      <td>18</td>\n",
       "      <td>0</td>\n",
       "      <td>N/A</td>\n",
       "      <td>Delhi</td>\n",
       "      <td>25000</td>\n",
       "    </tr>\n",
       "    <tr>\n",
       "      <th>8</th>\n",
       "      <td>9</td>\n",
       "      <td>Jeremy</td>\n",
       "      <td>23</td>\n",
       "      <td>107</td>\n",
       "      <td>Laptop</td>\n",
       "      <td>Mumbai</td>\n",
       "      <td>48000</td>\n",
       "    </tr>\n",
       "  </tbody>\n",
       "</table>\n",
       "</div>"
      ],
      "text/plain": [
       "   id     name  Age  Product   Purchased       City  Sale_Amount\n",
       "0   1   Olivia   20      101       Watch     Mumbai        10000\n",
       "1   2   Aditya   25        0         N/A      Delhi       150000\n",
       "2   3     Cory   15      106         Oil  Bangalore         2000\n",
       "3   4  Isabell   10        0         N/A    Chennai        30000\n",
       "4   5  Dominic   30      103       Shoes    Chennai        15000\n",
       "5   6    Tyler   65      104  Smartphone      Delhi        16000\n",
       "6   7   Samuel   35        0         N/A    Kolkata        15000\n",
       "7   8   Daniel   18        0         N/A      Delhi        25000\n",
       "8   9   Jeremy   23      107      Laptop     Mumbai        48000"
      ]
     },
     "execution_count": 60,
     "metadata": {},
     "output_type": "execute_result"
    }
   ],
   "source": [
    "df = pd.DataFrame({\"id\":[1,2,3,4,5,6,7,8,9],\"name\":['Olivia', 'Aditya', 'Cory', 'Isabell', 'Dominic', 'Tyler', 'Samuel', 'Daniel', 'Jeremy'],\n",
    "                  \"Age\":[20, 25, 15, 10, 30, 65, 35, 18, 23],\n",
    "                  \"Product\":[101,0, 106, 0, 103, 104,0 ,0 , 107],\n",
    "                  \"Purchased\":['Watch','N/A', 'Oil', 'N/A', 'Shoes', 'Smartphone','N/A' ,'N/A' , 'Laptop'],\n",
    "                  \"City\":['Mumbai', 'Delhi', 'Bangalore', 'Chennai', 'Chennai', 'Delhi', 'Kolkata', 'Delhi', 'Mumbai'],\n",
    "                  \"Sale_Amount\":[10000,150000,2000,30000,15000,16000,15000,25000,48000]})\n",
    "df"
   ]
  },
  {
   "cell_type": "code",
   "execution_count": 38,
   "id": "0d896e69",
   "metadata": {},
   "outputs": [],
   "source": [
    "# Q2. Explain the difference between .loc[] and .iloc[] in pandas. Provide an example where each is used."
   ]
  },
  {
   "cell_type": "code",
   "execution_count": 39,
   "id": "aff215af",
   "metadata": {},
   "outputs": [
    {
     "name": "stdout",
     "output_type": "stream",
     "text": [
      "id                  2\n",
      "name           Aditya\n",
      "Age                25\n",
      "Product             0\n",
      "Purchased         N/A\n",
      "City            Delhi\n",
      "Sale_Amount    150000\n",
      "Name: 1, dtype: object\n",
      "'''''''''''\n",
      "id                  2\n",
      "name           Aditya\n",
      "Age                25\n",
      "Product             0\n",
      "Purchased         N/A\n",
      "City            Delhi\n",
      "Sale_Amount    150000\n",
      "Name: 1, dtype: object\n"
     ]
    }
   ],
   "source": [
    "#iloc perform index but loc perform label\n",
    "# if index 1 is not there then loc goes error but\n",
    "print(df.loc[1]) \n",
    "print(\"'''''''''''\")\n",
    "print(df.iloc[1])"
   ]
  },
  {
   "cell_type": "code",
   "execution_count": 40,
   "id": "5d224747",
   "metadata": {},
   "outputs": [],
   "source": [
    "# Q3. How do you filter rows in a DataFrame where the values in a specific column are greater than a certain value?"
   ]
  },
  {
   "cell_type": "code",
   "execution_count": 41,
   "id": "f0d7925d",
   "metadata": {},
   "outputs": [
    {
     "data": {
      "text/html": [
       "<div>\n",
       "<style scoped>\n",
       "    .dataframe tbody tr th:only-of-type {\n",
       "        vertical-align: middle;\n",
       "    }\n",
       "\n",
       "    .dataframe tbody tr th {\n",
       "        vertical-align: top;\n",
       "    }\n",
       "\n",
       "    .dataframe thead th {\n",
       "        text-align: right;\n",
       "    }\n",
       "</style>\n",
       "<table border=\"1\" class=\"dataframe\">\n",
       "  <thead>\n",
       "    <tr style=\"text-align: right;\">\n",
       "      <th></th>\n",
       "      <th>id</th>\n",
       "      <th>name</th>\n",
       "      <th>Age</th>\n",
       "      <th>Product</th>\n",
       "      <th>Purchased</th>\n",
       "      <th>City</th>\n",
       "      <th>Sale_Amount</th>\n",
       "    </tr>\n",
       "  </thead>\n",
       "  <tbody>\n",
       "    <tr>\n",
       "      <th>4</th>\n",
       "      <td>5</td>\n",
       "      <td>Dominic</td>\n",
       "      <td>30</td>\n",
       "      <td>103</td>\n",
       "      <td>Shoes</td>\n",
       "      <td>Chennai</td>\n",
       "      <td>15000</td>\n",
       "    </tr>\n",
       "    <tr>\n",
       "      <th>5</th>\n",
       "      <td>6</td>\n",
       "      <td>Tyler</td>\n",
       "      <td>65</td>\n",
       "      <td>104</td>\n",
       "      <td>Smartphone</td>\n",
       "      <td>Delhi</td>\n",
       "      <td>16000</td>\n",
       "    </tr>\n",
       "    <tr>\n",
       "      <th>6</th>\n",
       "      <td>7</td>\n",
       "      <td>Samuel</td>\n",
       "      <td>35</td>\n",
       "      <td>0</td>\n",
       "      <td>N/A</td>\n",
       "      <td>Kolkata</td>\n",
       "      <td>15000</td>\n",
       "    </tr>\n",
       "  </tbody>\n",
       "</table>\n",
       "</div>"
      ],
      "text/plain": [
       "   id     name  Age  Product   Purchased     City  Sale_Amount\n",
       "4   5  Dominic   30      103       Shoes  Chennai        15000\n",
       "5   6    Tyler   65      104  Smartphone    Delhi        16000\n",
       "6   7   Samuel   35        0         N/A  Kolkata        15000"
      ]
     },
     "execution_count": 41,
     "metadata": {},
     "output_type": "execute_result"
    }
   ],
   "source": [
    "df_filtered = df[df['Age'] > 25]\n",
    "df_filtered"
   ]
  },
  {
   "cell_type": "code",
   "execution_count": 42,
   "id": "b44d88d0",
   "metadata": {},
   "outputs": [],
   "source": [
    "# Q4. What methods can be used to compute the mean, median, and standard deviation of a DataFrame column?"
   ]
  },
  {
   "cell_type": "code",
   "execution_count": 43,
   "id": "8cc90eb9",
   "metadata": {},
   "outputs": [
    {
     "name": "stdout",
     "output_type": "stream",
     "text": [
      "34555.555555555555\n",
      "16000.0\n",
      "45266.1880190698\n"
     ]
    }
   ],
   "source": [
    "print(df['Sale_Amount'].mean())\n",
    "print(df['Sale_Amount'].median())\n",
    "print(df['Sale_Amount'].std())"
   ]
  },
  {
   "cell_type": "code",
   "execution_count": 44,
   "id": "44120f71",
   "metadata": {},
   "outputs": [
    {
     "name": "stdout",
     "output_type": "stream",
     "text": [
      "      Name  Math  Science  Total\n",
      "0    Alice    85       88    173\n",
      "1      Bob    90       92    182\n",
      "2  Charlie    78       84    162\n"
     ]
    }
   ],
   "source": [
    "\"\"\"\n",
    "Q5. How can you add a new column to a DataFrame that is calculated from existing columns? For example, \n",
    "adding a column Total as the sum of two existing columns.\n",
    "\"\"\"\n",
    "data = {\n",
    "    'Name': ['Alice', 'Bob', 'Charlie'],\n",
    "    'Math': [85, 90, 78],\n",
    "    'Science': [88, 92, 84]\n",
    "}\n",
    "\n",
    "df1 = pd.DataFrame(data)\n",
    "\n",
    "df1['Total'] = df1['Math'] + df1['Science']\n",
    "\n",
    "print(df1)\n"
   ]
  },
  {
   "cell_type": "code",
   "execution_count": 4,
   "id": "d7d86db2",
   "metadata": {},
   "outputs": [
    {
     "name": "stdout",
     "output_type": "stream",
     "text": [
      "    Name   Age      City\n",
      "0  Alice  25.0  New York\n"
     ]
    }
   ],
   "source": [
    "\"\"\"\n",
    "Q6. What are the ways to handle missing values in a pandas DataFrame? Explain with examples\n",
    "how to drop rows with missing values or fill them with a specific value.\n",
    "\"\"\"\n",
    "data = {\n",
    "    'Name': ['Alice', 'Bob', None, 'Charlie'],\n",
    "    'Age': [25, np.nan, 30, 35],\n",
    "    'City': ['New York', 'London', 'Paris', None]\n",
    "}\n",
    "df = pd.DataFrame(data)\n",
    "\n",
    "df_dropped = df.dropna()\n",
    "\n",
    "print(df_dropped)"
   ]
  },
  {
   "cell_type": "code",
   "execution_count": 5,
   "id": "c4e2f044",
   "metadata": {},
   "outputs": [
    {
     "name": "stdout",
     "output_type": "stream",
     "text": [
      "Empty DataFrame\n",
      "Columns: []\n",
      "Index: [0, 1, 2, 3]\n"
     ]
    }
   ],
   "source": [
    "df_dropped_columns = df.dropna(axis=1)\n",
    "\n",
    "print(df_dropped_columns)"
   ]
  },
  {
   "cell_type": "code",
   "execution_count": 6,
   "id": "bbe1b35b",
   "metadata": {},
   "outputs": [
    {
     "name": "stdout",
     "output_type": "stream",
     "text": [
      "      Name   Age      City\n",
      "0    Alice  25.0  New York\n",
      "1      Bob   0.0    London\n",
      "2  Unknown  30.0     Paris\n",
      "3  Charlie  35.0   Unknown\n"
     ]
    }
   ],
   "source": [
    "df_filled = df.fillna({'Name': 'Unknown', 'Age': 0, 'City': 'Unknown'})\n",
    "\n",
    "print(df_filled)"
   ]
  },
  {
   "cell_type": "code",
   "execution_count": 7,
   "id": "d7f20a81",
   "metadata": {},
   "outputs": [
    {
     "name": "stdout",
     "output_type": "stream",
     "text": [
      "Forward Fill:\n",
      "      Name   Age      City\n",
      "0    Alice  25.0  New York\n",
      "1      Bob  25.0    London\n",
      "2      Bob  30.0     Paris\n",
      "3  Charlie  35.0     Paris\n",
      "\n",
      "Backward Fill:\n",
      "      Name   Age      City\n",
      "0    Alice  25.0  New York\n",
      "1      Bob  30.0    London\n",
      "2  Charlie  30.0     Paris\n",
      "3  Charlie  35.0      None\n"
     ]
    }
   ],
   "source": [
    "# Forward fill (replace NaN with previous value)\n",
    "df_filled_ffill = df.fillna(method='ffill')\n",
    "\n",
    "# Backward fill (replace NaN with next value)\n",
    "df_filled_bfill = df.fillna(method='bfill')\n",
    "\n",
    "print(\"Forward Fill:\")\n",
    "print(df_filled_ffill)\n",
    "\n",
    "print(\"\\nBackward Fill:\")\n",
    "print(df_filled_bfill)"
   ]
  },
  {
   "cell_type": "code",
   "execution_count": 14,
   "id": "37be5856",
   "metadata": {},
   "outputs": [
    {
     "name": "stdout",
     "output_type": "stream",
     "text": [
      "0    25.0\n",
      "1    30.0\n",
      "2    30.0\n",
      "3    35.0\n",
      "Name: Age, dtype: float64\n"
     ]
    }
   ],
   "source": [
    "mean_age = df['Age'].mean()\n",
    "df_filled_mean = df['Age'].fillna(mean_age)\n",
    "\n",
    "print(df_filled_mean)"
   ]
  },
  {
   "cell_type": "code",
   "execution_count": 15,
   "id": "5fa63f71",
   "metadata": {},
   "outputs": [],
   "source": [
    "# Q7. How can you sort a pandas DataFrame by a specific column in ascending order? Provide an example."
   ]
  },
  {
   "cell_type": "code",
   "execution_count": 17,
   "id": "8e90f725",
   "metadata": {},
   "outputs": [
    {
     "data": {
      "text/html": [
       "<div>\n",
       "<style scoped>\n",
       "    .dataframe tbody tr th:only-of-type {\n",
       "        vertical-align: middle;\n",
       "    }\n",
       "\n",
       "    .dataframe tbody tr th {\n",
       "        vertical-align: top;\n",
       "    }\n",
       "\n",
       "    .dataframe thead th {\n",
       "        text-align: right;\n",
       "    }\n",
       "</style>\n",
       "<table border=\"1\" class=\"dataframe\">\n",
       "  <thead>\n",
       "    <tr style=\"text-align: right;\">\n",
       "      <th></th>\n",
       "      <th>Name</th>\n",
       "      <th>Age</th>\n",
       "      <th>City</th>\n",
       "    </tr>\n",
       "  </thead>\n",
       "  <tbody>\n",
       "    <tr>\n",
       "      <th>0</th>\n",
       "      <td>Alice</td>\n",
       "      <td>25.0</td>\n",
       "      <td>New York</td>\n",
       "    </tr>\n",
       "    <tr>\n",
       "      <th>2</th>\n",
       "      <td>None</td>\n",
       "      <td>30.0</td>\n",
       "      <td>Paris</td>\n",
       "    </tr>\n",
       "    <tr>\n",
       "      <th>3</th>\n",
       "      <td>Charlie</td>\n",
       "      <td>35.0</td>\n",
       "      <td>None</td>\n",
       "    </tr>\n",
       "    <tr>\n",
       "      <th>1</th>\n",
       "      <td>Bob</td>\n",
       "      <td>NaN</td>\n",
       "      <td>London</td>\n",
       "    </tr>\n",
       "  </tbody>\n",
       "</table>\n",
       "</div>"
      ],
      "text/plain": [
       "      Name   Age      City\n",
       "0    Alice  25.0  New York\n",
       "2     None  30.0     Paris\n",
       "3  Charlie  35.0      None\n",
       "1      Bob   NaN    London"
      ]
     },
     "execution_count": 17,
     "metadata": {},
     "output_type": "execute_result"
    }
   ],
   "source": [
    "df_sorted = df.sort_values(by='Age')\n",
    "df_sorted"
   ]
  },
  {
   "cell_type": "code",
   "execution_count": null,
   "id": "88820f1f",
   "metadata": {},
   "outputs": [],
   "source": [
    "\"\"\"\n",
    "Q8. How can you filter a pandas DataFrame to display rows where a \n",
    "specific column has a value greater than a given number (e.g., Age > 30)?\n",
    "\"\"\""
   ]
  },
  {
   "cell_type": "code",
   "execution_count": 22,
   "id": "c2c2de95",
   "metadata": {},
   "outputs": [
    {
     "data": {
      "text/html": [
       "<div>\n",
       "<style scoped>\n",
       "    .dataframe tbody tr th:only-of-type {\n",
       "        vertical-align: middle;\n",
       "    }\n",
       "\n",
       "    .dataframe tbody tr th {\n",
       "        vertical-align: top;\n",
       "    }\n",
       "\n",
       "    .dataframe thead th {\n",
       "        text-align: right;\n",
       "    }\n",
       "</style>\n",
       "<table border=\"1\" class=\"dataframe\">\n",
       "  <thead>\n",
       "    <tr style=\"text-align: right;\">\n",
       "      <th></th>\n",
       "      <th>Name</th>\n",
       "      <th>Age</th>\n",
       "      <th>City</th>\n",
       "    </tr>\n",
       "  </thead>\n",
       "  <tbody>\n",
       "    <tr>\n",
       "      <th>2</th>\n",
       "      <td>None</td>\n",
       "      <td>30.0</td>\n",
       "      <td>Paris</td>\n",
       "    </tr>\n",
       "    <tr>\n",
       "      <th>3</th>\n",
       "      <td>Charlie</td>\n",
       "      <td>35.0</td>\n",
       "      <td>None</td>\n",
       "    </tr>\n",
       "  </tbody>\n",
       "</table>\n",
       "</div>"
      ],
      "text/plain": [
       "      Name   Age   City\n",
       "2     None  30.0  Paris\n",
       "3  Charlie  35.0   None"
      ]
     },
     "execution_count": 22,
     "metadata": {},
     "output_type": "execute_result"
    }
   ],
   "source": [
    "df_filter = df[df['Age']>=30]\n",
    "df_filter"
   ]
  },
  {
   "cell_type": "code",
   "execution_count": 24,
   "id": "6691a800",
   "metadata": {},
   "outputs": [],
   "source": [
    "# Q9. How can you slice a pandas DataFrame to select a specific range of rows (e.g., rows 10 to 20)?"
   ]
  },
  {
   "cell_type": "code",
   "execution_count": 28,
   "id": "6f076d56",
   "metadata": {},
   "outputs": [
    {
     "data": {
      "text/html": [
       "<div>\n",
       "<style scoped>\n",
       "    .dataframe tbody tr th:only-of-type {\n",
       "        vertical-align: middle;\n",
       "    }\n",
       "\n",
       "    .dataframe tbody tr th {\n",
       "        vertical-align: top;\n",
       "    }\n",
       "\n",
       "    .dataframe thead th {\n",
       "        text-align: right;\n",
       "    }\n",
       "</style>\n",
       "<table border=\"1\" class=\"dataframe\">\n",
       "  <thead>\n",
       "    <tr style=\"text-align: right;\">\n",
       "      <th></th>\n",
       "      <th>Name</th>\n",
       "      <th>Age</th>\n",
       "      <th>City</th>\n",
       "    </tr>\n",
       "  </thead>\n",
       "  <tbody>\n",
       "    <tr>\n",
       "      <th>1</th>\n",
       "      <td>Bob</td>\n",
       "      <td>NaN</td>\n",
       "      <td>London</td>\n",
       "    </tr>\n",
       "    <tr>\n",
       "      <th>2</th>\n",
       "      <td>None</td>\n",
       "      <td>30.0</td>\n",
       "      <td>Paris</td>\n",
       "    </tr>\n",
       "  </tbody>\n",
       "</table>\n",
       "</div>"
      ],
      "text/plain": [
       "   Name   Age    City\n",
       "1   Bob   NaN  London\n",
       "2  None  30.0   Paris"
      ]
     },
     "execution_count": 28,
     "metadata": {},
     "output_type": "execute_result"
    }
   ],
   "source": [
    "df_range = df.iloc[1:3]\n",
    "df_range"
   ]
  },
  {
   "cell_type": "code",
   "execution_count": null,
   "id": "03a9d805",
   "metadata": {},
   "outputs": [],
   "source": []
  }
 ],
 "metadata": {
  "hide_input": false,
  "kernelspec": {
   "display_name": "Python 3 (ipykernel)",
   "language": "python",
   "name": "python3"
  },
  "language_info": {
   "codemirror_mode": {
    "name": "ipython",
    "version": 3
   },
   "file_extension": ".py",
   "mimetype": "text/x-python",
   "name": "python",
   "nbconvert_exporter": "python",
   "pygments_lexer": "ipython3",
   "version": "3.11.5"
  }
 },
 "nbformat": 4,
 "nbformat_minor": 5
}
